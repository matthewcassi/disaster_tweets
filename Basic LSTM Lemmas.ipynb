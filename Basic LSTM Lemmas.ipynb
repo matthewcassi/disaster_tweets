{
 "cells": [
  {
   "cell_type": "code",
   "execution_count": 1,
   "id": "fc9ea5b3-6521-4059-84a4-57a638290290",
   "metadata": {},
   "outputs": [],
   "source": [
    "import warnings\n",
    "warnings.filterwarnings(\"ignore\")"
   ]
  },
  {
   "cell_type": "code",
   "execution_count": 2,
   "id": "1cef3a4c-1fce-41f1-ab47-e7c6b29e54b9",
   "metadata": {},
   "outputs": [],
   "source": [
    "import pandas as pd\n",
    "import numpy as np\n",
    "import nltk"
   ]
  },
  {
   "cell_type": "code",
   "execution_count": 15,
   "id": "895297a1-e667-41e5-a587-6ac6d7b12434",
   "metadata": {},
   "outputs": [],
   "source": [
    "import spacy"
   ]
  },
  {
   "cell_type": "code",
   "execution_count": 3,
   "id": "e64d4116-a9e5-4c8c-b2f5-e218cc966f09",
   "metadata": {},
   "outputs": [],
   "source": [
    "import matplotlib.pyplot as plt\n",
    "import seaborn as sns\n",
    "%matplotlib inline"
   ]
  },
  {
   "cell_type": "code",
   "execution_count": 4,
   "id": "25cae808-cdbd-4b74-a671-704880239f7a",
   "metadata": {},
   "outputs": [],
   "source": [
    "from nltk.corpus import stopwords\n",
    "stop = stopwords.words('english')"
   ]
  },
  {
   "cell_type": "code",
   "execution_count": 5,
   "id": "517fa746-0e7c-4d4d-88e9-2bfae73a0838",
   "metadata": {},
   "outputs": [],
   "source": [
    "from sklearn.model_selection import train_test_split\n",
    "from sklearn.metrics import (\n",
    "    precision_score, \n",
    "    recall_score, \n",
    "    f1_score, \n",
    "    classification_report,\n",
    "    accuracy_score\n",
    ")\n",
    "from nltk.tokenize import word_tokenize\n",
    "from tensorflow.keras.models import Sequential\n",
    "from tensorflow.keras.initializers import Constant\n",
    "from tensorflow.keras.layers import (LSTM, \n",
    "                          Embedding, \n",
    "                          BatchNormalization,\n",
    "                          Dense, \n",
    "                          TimeDistributed, \n",
    "                          Dropout, \n",
    "                          Bidirectional,\n",
    "                          Flatten, \n",
    "                          GlobalMaxPool1D)\n",
    "from tensorflow.keras.preprocessing.text import Tokenizer\n",
    "from tensorflow.keras.preprocessing.sequence import pad_sequences\n",
    "from tensorflow.keras.layers import Embedding\n",
    "from tensorflow.keras.callbacks import ModelCheckpoint, ReduceLROnPlateau\n",
    "from tensorflow.keras.optimizers import Adam"
   ]
  },
  {
   "cell_type": "code",
   "execution_count": 6,
   "id": "4c1b2855-273a-4a06-ab21-e57a4965de53",
   "metadata": {},
   "outputs": [],
   "source": [
    "from sklearn.metrics import confusion_matrix\n",
    "from tensorflow.keras.utils import to_categorical\n",
    "import itertools"
   ]
  },
  {
   "cell_type": "code",
   "execution_count": 7,
   "id": "4aaaa0fb-d554-4d6c-b416-f3ae5bdd4486",
   "metadata": {},
   "outputs": [],
   "source": [
    "import text_cleaning_functions as clean"
   ]
  },
  {
   "cell_type": "code",
   "execution_count": 8,
   "id": "f72b9012-019f-4c18-9c01-5012ca08e7c1",
   "metadata": {},
   "outputs": [],
   "source": [
    "def embed(corpus): \n",
    "    return word_tokenizer.texts_to_sequences(corpus)"
   ]
  },
  {
   "cell_type": "code",
   "execution_count": 9,
   "id": "e9c09eb0-c5e5-401e-bfa6-0bb770e67b4a",
   "metadata": {},
   "outputs": [],
   "source": [
    "RANDOM_STATE = 2"
   ]
  },
  {
   "cell_type": "code",
   "execution_count": 10,
   "id": "9243d984-6d4f-4f54-8740-c721547ecfa0",
   "metadata": {},
   "outputs": [],
   "source": [
    "train = pd.read_csv(\"train.csv\")\n",
    "test = pd.read_csv(\"test.csv\")"
   ]
  },
  {
   "cell_type": "code",
   "execution_count": 11,
   "id": "817d36cf-3d74-4add-80ba-d8892ee5cdb4",
   "metadata": {},
   "outputs": [],
   "source": [
    "train['text'] = train['text'].str.lower()\n",
    "test['text'] = test['text'].str.lower()"
   ]
  },
  {
   "cell_type": "code",
   "execution_count": 12,
   "id": "749daa31-5415-427d-9a16-06f64ddb98d8",
   "metadata": {},
   "outputs": [],
   "source": [
    "train['text_clean'] = train['text'].apply(lambda x: clean.remove_URL(x))\n",
    "train['text_clean'] = train['text_clean'].apply(lambda x: clean.remove_emoji(x))\n",
    "train['text_clean'] = train['text_clean'].apply(lambda x: clean.remove_html(x))\n",
    "train['text_clean'] = train['text_clean'].apply(lambda x: clean.remove_punctuation(x))\n",
    "train['text_clean'] = train['text_clean'].apply(lambda x: ' '.join([word for word in x.split() if word not in (stop)]))"
   ]
  },
  {
   "cell_type": "code",
   "execution_count": 13,
   "id": "e4456d6d-f099-424b-b349-ca759492d142",
   "metadata": {},
   "outputs": [],
   "source": [
    "test['text_clean'] = test['text'].apply(lambda x: clean.remove_URL(x))\n",
    "test['text_clean'] = test['text_clean'].apply(lambda x: clean.remove_emoji(x))\n",
    "test['text_clean'] = test['text_clean'].apply(lambda x: clean.remove_html(x))\n",
    "test['text_clean'] = test['text_clean'].apply(lambda x: clean.remove_punctuation(x))\n",
    "test['text_clean'] = test['text_clean'].apply(lambda x: ' '.join([word for word in x.split() if word not in (stop)]))"
   ]
  },
  {
   "cell_type": "code",
   "execution_count": 16,
   "id": "1ed1f623-be11-4f41-91ae-f253bf314867",
   "metadata": {},
   "outputs": [],
   "source": [
    "nlp = spacy.load('en_core_web_sm')"
   ]
  },
  {
   "cell_type": "code",
   "execution_count": 17,
   "id": "9705577a-fa78-48fd-8fbb-f8414e286054",
   "metadata": {},
   "outputs": [],
   "source": [
    "train['text_lemma'] = train[\"text_clean\"].apply(lambda row: \" \".join([w.lemma_ for w in nlp(row)]))\n",
    "test['text_lemma'] = test[\"text_clean\"].apply(lambda row: \" \".join([w.lemma_ for w in nlp(row)]))"
   ]
  },
  {
   "cell_type": "code",
   "execution_count": 18,
   "id": "fdb11b6a-c314-4eb2-801c-faba7c05f7a5",
   "metadata": {},
   "outputs": [
    {
     "data": {
      "text/html": [
       "<div>\n",
       "<style scoped>\n",
       "    .dataframe tbody tr th:only-of-type {\n",
       "        vertical-align: middle;\n",
       "    }\n",
       "\n",
       "    .dataframe tbody tr th {\n",
       "        vertical-align: top;\n",
       "    }\n",
       "\n",
       "    .dataframe thead th {\n",
       "        text-align: right;\n",
       "    }\n",
       "</style>\n",
       "<table border=\"1\" class=\"dataframe\">\n",
       "  <thead>\n",
       "    <tr style=\"text-align: right;\">\n",
       "      <th></th>\n",
       "      <th>id</th>\n",
       "      <th>keyword</th>\n",
       "      <th>location</th>\n",
       "      <th>text</th>\n",
       "      <th>target</th>\n",
       "      <th>text_clean</th>\n",
       "      <th>text_lemma</th>\n",
       "    </tr>\n",
       "  </thead>\n",
       "  <tbody>\n",
       "    <tr>\n",
       "      <th>0</th>\n",
       "      <td>1</td>\n",
       "      <td>NaN</td>\n",
       "      <td>NaN</td>\n",
       "      <td>our deeds are the reason of this #earthquake m...</td>\n",
       "      <td>1</td>\n",
       "      <td>deeds reason earthquake may allah forgive us</td>\n",
       "      <td>deed reason earthquake may allah forgive we</td>\n",
       "    </tr>\n",
       "    <tr>\n",
       "      <th>1</th>\n",
       "      <td>4</td>\n",
       "      <td>NaN</td>\n",
       "      <td>NaN</td>\n",
       "      <td>forest fire near la ronge sask. canada</td>\n",
       "      <td>1</td>\n",
       "      <td>forest fire near la ronge sask canada</td>\n",
       "      <td>forest fire near la ronge sask canada</td>\n",
       "    </tr>\n",
       "    <tr>\n",
       "      <th>2</th>\n",
       "      <td>5</td>\n",
       "      <td>NaN</td>\n",
       "      <td>NaN</td>\n",
       "      <td>all residents asked to 'shelter in place' are ...</td>\n",
       "      <td>1</td>\n",
       "      <td>residents asked shelter place notified officer...</td>\n",
       "      <td>resident ask shelter place notify officer evac...</td>\n",
       "    </tr>\n",
       "    <tr>\n",
       "      <th>3</th>\n",
       "      <td>6</td>\n",
       "      <td>NaN</td>\n",
       "      <td>NaN</td>\n",
       "      <td>13,000 people receive #wildfires evacuation or...</td>\n",
       "      <td>1</td>\n",
       "      <td>13000 people receive wildfires evacuation orde...</td>\n",
       "      <td>13000 people receive wildfire evacuation order...</td>\n",
       "    </tr>\n",
       "    <tr>\n",
       "      <th>4</th>\n",
       "      <td>7</td>\n",
       "      <td>NaN</td>\n",
       "      <td>NaN</td>\n",
       "      <td>just got sent this photo from ruby #alaska as ...</td>\n",
       "      <td>1</td>\n",
       "      <td>got sent photo ruby alaska smoke wildfires pou...</td>\n",
       "      <td>got send photo ruby alaska smoke wildfire pour...</td>\n",
       "    </tr>\n",
       "  </tbody>\n",
       "</table>\n",
       "</div>"
      ],
      "text/plain": [
       "   id keyword location                                               text  \\\n",
       "0   1     NaN      NaN  our deeds are the reason of this #earthquake m...   \n",
       "1   4     NaN      NaN             forest fire near la ronge sask. canada   \n",
       "2   5     NaN      NaN  all residents asked to 'shelter in place' are ...   \n",
       "3   6     NaN      NaN  13,000 people receive #wildfires evacuation or...   \n",
       "4   7     NaN      NaN  just got sent this photo from ruby #alaska as ...   \n",
       "\n",
       "   target                                         text_clean  \\\n",
       "0       1       deeds reason earthquake may allah forgive us   \n",
       "1       1              forest fire near la ronge sask canada   \n",
       "2       1  residents asked shelter place notified officer...   \n",
       "3       1  13000 people receive wildfires evacuation orde...   \n",
       "4       1  got sent photo ruby alaska smoke wildfires pou...   \n",
       "\n",
       "                                          text_lemma  \n",
       "0        deed reason earthquake may allah forgive we  \n",
       "1              forest fire near la ronge sask canada  \n",
       "2  resident ask shelter place notify officer evac...  \n",
       "3  13000 people receive wildfire evacuation order...  \n",
       "4  got send photo ruby alaska smoke wildfire pour...  "
      ]
     },
     "execution_count": 18,
     "metadata": {},
     "output_type": "execute_result"
    }
   ],
   "source": [
    "train.head()"
   ]
  },
  {
   "cell_type": "code",
   "execution_count": 19,
   "id": "5c0611cb-ef7d-4f90-9871-ae11f78959bf",
   "metadata": {},
   "outputs": [
    {
     "data": {
      "text/html": [
       "<div>\n",
       "<style scoped>\n",
       "    .dataframe tbody tr th:only-of-type {\n",
       "        vertical-align: middle;\n",
       "    }\n",
       "\n",
       "    .dataframe tbody tr th {\n",
       "        vertical-align: top;\n",
       "    }\n",
       "\n",
       "    .dataframe thead th {\n",
       "        text-align: right;\n",
       "    }\n",
       "</style>\n",
       "<table border=\"1\" class=\"dataframe\">\n",
       "  <thead>\n",
       "    <tr style=\"text-align: right;\">\n",
       "      <th></th>\n",
       "      <th>id</th>\n",
       "      <th>keyword</th>\n",
       "      <th>location</th>\n",
       "      <th>text</th>\n",
       "      <th>text_clean</th>\n",
       "      <th>text_lemma</th>\n",
       "    </tr>\n",
       "  </thead>\n",
       "  <tbody>\n",
       "    <tr>\n",
       "      <th>0</th>\n",
       "      <td>0</td>\n",
       "      <td>NaN</td>\n",
       "      <td>NaN</td>\n",
       "      <td>just happened a terrible car crash</td>\n",
       "      <td>happened terrible car crash</td>\n",
       "      <td>happen terrible car crash</td>\n",
       "    </tr>\n",
       "    <tr>\n",
       "      <th>1</th>\n",
       "      <td>2</td>\n",
       "      <td>NaN</td>\n",
       "      <td>NaN</td>\n",
       "      <td>heard about #earthquake is different cities, s...</td>\n",
       "      <td>heard earthquake different cities stay safe ev...</td>\n",
       "      <td>hear earthquake different city stay safe everyone</td>\n",
       "    </tr>\n",
       "    <tr>\n",
       "      <th>2</th>\n",
       "      <td>3</td>\n",
       "      <td>NaN</td>\n",
       "      <td>NaN</td>\n",
       "      <td>there is a forest fire at spot pond, geese are...</td>\n",
       "      <td>forest fire spot pond geese fleeing across str...</td>\n",
       "      <td>forest fire spot pond geese fleeing across str...</td>\n",
       "    </tr>\n",
       "    <tr>\n",
       "      <th>3</th>\n",
       "      <td>9</td>\n",
       "      <td>NaN</td>\n",
       "      <td>NaN</td>\n",
       "      <td>apocalypse lighting. #spokane #wildfires</td>\n",
       "      <td>apocalypse lighting spokane wildfires</td>\n",
       "      <td>apocalypse light spokane wildfire</td>\n",
       "    </tr>\n",
       "    <tr>\n",
       "      <th>4</th>\n",
       "      <td>11</td>\n",
       "      <td>NaN</td>\n",
       "      <td>NaN</td>\n",
       "      <td>typhoon soudelor kills 28 in china and taiwan</td>\n",
       "      <td>typhoon soudelor kills 28 china taiwan</td>\n",
       "      <td>typhoon soudelor kill 28 china taiwan</td>\n",
       "    </tr>\n",
       "  </tbody>\n",
       "</table>\n",
       "</div>"
      ],
      "text/plain": [
       "   id keyword location                                               text  \\\n",
       "0   0     NaN      NaN                 just happened a terrible car crash   \n",
       "1   2     NaN      NaN  heard about #earthquake is different cities, s...   \n",
       "2   3     NaN      NaN  there is a forest fire at spot pond, geese are...   \n",
       "3   9     NaN      NaN           apocalypse lighting. #spokane #wildfires   \n",
       "4  11     NaN      NaN      typhoon soudelor kills 28 in china and taiwan   \n",
       "\n",
       "                                          text_clean  \\\n",
       "0                        happened terrible car crash   \n",
       "1  heard earthquake different cities stay safe ev...   \n",
       "2  forest fire spot pond geese fleeing across str...   \n",
       "3              apocalypse lighting spokane wildfires   \n",
       "4             typhoon soudelor kills 28 china taiwan   \n",
       "\n",
       "                                          text_lemma  \n",
       "0                          happen terrible car crash  \n",
       "1  hear earthquake different city stay safe everyone  \n",
       "2  forest fire spot pond geese fleeing across str...  \n",
       "3                  apocalypse light spokane wildfire  \n",
       "4              typhoon soudelor kill 28 china taiwan  "
      ]
     },
     "execution_count": 19,
     "metadata": {},
     "output_type": "execute_result"
    }
   ],
   "source": [
    "test.head()"
   ]
  },
  {
   "cell_type": "code",
   "execution_count": 20,
   "id": "8c19b28b-7fc2-42d9-85a1-bb8bec518827",
   "metadata": {},
   "outputs": [],
   "source": [
    "embeddings_dictionary = dict()\n",
    "embedding_dim = 100\n",
    "glove_file = open('glove.6B.100d.txt')\n",
    "for line in glove_file:\n",
    "    records = line.split()\n",
    "    word = records[0]\n",
    "    vector_dimensions = np.asarray(records[1:], dtype='float32')\n",
    "    embeddings_dictionary [word] = vector_dimensions\n",
    "glove_file.close()"
   ]
  },
  {
   "cell_type": "code",
   "execution_count": 21,
   "id": "47e16785-50d1-4fa9-87a4-2fabcae6b859",
   "metadata": {},
   "outputs": [
    {
     "data": {
      "text/plain": [
       "array([-0.093032 ,  1.6301   ,  0.36645  ,  0.29015  , -0.81781  ,\n",
       "       -0.46611  ,  0.037282 ,  0.13208  ,  0.13661  ,  1.2091   ,\n",
       "        0.81466  , -0.12874  ,  0.52387  , -0.024319 ,  0.94072  ,\n",
       "       -0.12509  , -0.34087  ,  0.19321  , -1.0522   ,  0.62915  ,\n",
       "       -0.0699   ,  0.14182  ,  0.49985  ,  0.61688  ,  0.027162 ,\n",
       "        0.22695  , -0.89086  ,  1.4411   , -0.45774  , -0.5922   ,\n",
       "        0.48147  , -0.4387   ,  0.99552  ,  1.3003   , -1.1123   ,\n",
       "       -1.4847   ,  0.53476  , -0.22524  , -0.21366  , -0.14612  ,\n",
       "       -0.50853  ,  0.82284  , -0.075167 , -0.60331  ,  0.86412  ,\n",
       "        0.15815  ,  0.76075  , -0.28173  ,  0.27679  , -0.43729  ,\n",
       "       -0.53438  ,  0.081051 ,  0.98763  , -0.28154  , -0.15944  ,\n",
       "       -1.9562   ,  0.13058  , -0.46506  ,  1.4629   ,  1.262    ,\n",
       "       -0.46154  ,  1.3625   , -0.40815  , -0.24256  ,  0.21117  ,\n",
       "        0.57007  , -1.6566   , -0.21043  ,  0.97449  , -0.16146  ,\n",
       "       -0.33706  ,  0.50539  ,  0.45718  ,  0.2184   ,  0.69558  ,\n",
       "        0.43774  ,  0.4584   ,  0.57097  , -0.17801  ,  0.15078  ,\n",
       "        0.46262  ,  0.46737  , -0.76256  , -0.0044911,  0.146    ,\n",
       "        0.20688  ,  0.10127  ,  0.41124  , -0.76671  , -1.1911   ,\n",
       "        1.6006   , -0.1965   , -0.51986  , -0.1828   , -0.16551  ,\n",
       "        1.0849   , -0.27171  , -0.45208  ,  0.24962  , -0.76453  ],\n",
       "      dtype=float32)"
      ]
     },
     "execution_count": 21,
     "metadata": {},
     "output_type": "execute_result"
    }
   ],
   "source": [
    "embeddings_dictionary['earthquake']"
   ]
  },
  {
   "cell_type": "code",
   "execution_count": 22,
   "id": "054847c6-384e-4a0f-ba7f-3e9fdd2cfb65",
   "metadata": {},
   "outputs": [],
   "source": [
    "train_1 = train.text_lemma.values\n",
    "test_1 = test.text_lemma.values\n",
    "sentiments = train.target.values"
   ]
  },
  {
   "cell_type": "code",
   "execution_count": 23,
   "id": "8b09d6de-b541-4a28-b76c-40c45114f13d",
   "metadata": {},
   "outputs": [
    {
     "data": {
      "text/plain": [
       "array([1, 1, 1, ..., 1, 1, 1])"
      ]
     },
     "execution_count": 23,
     "metadata": {},
     "output_type": "execute_result"
    }
   ],
   "source": [
    "sentiments"
   ]
  },
  {
   "cell_type": "code",
   "execution_count": 24,
   "id": "78bea6da-b6e4-4658-abca-fc1a70a29e06",
   "metadata": {},
   "outputs": [],
   "source": [
    "from collections import Counter"
   ]
  },
  {
   "cell_type": "code",
   "execution_count": 25,
   "id": "e6bdad36-f392-4697-afb3-4362b647eb41",
   "metadata": {},
   "outputs": [
    {
     "data": {
      "text/plain": [
       "Counter({1: 3271, 0: 4342})"
      ]
     },
     "execution_count": 25,
     "metadata": {},
     "output_type": "execute_result"
    }
   ],
   "source": [
    "Counter(sentiments)"
   ]
  },
  {
   "cell_type": "code",
   "execution_count": 26,
   "id": "125b8073-d9b9-4f20-863b-68632c68fd5b",
   "metadata": {},
   "outputs": [],
   "source": [
    "word_tokenizer = Tokenizer()\n",
    "word_tokenizer.fit_on_texts(train_1)\n",
    "vocab_length = len(word_tokenizer.word_index) + 1"
   ]
  },
  {
   "cell_type": "code",
   "execution_count": 27,
   "id": "be864961-b182-4617-9032-8c179cd97c9a",
   "metadata": {},
   "outputs": [],
   "source": [
    "longest_train = max(train_1, key=lambda sentence: len(word_tokenize(sentence)))\n",
    "length_long_sentence = len(word_tokenize(longest_train))\n",
    "padded_sentences = pad_sequences(embed(train_1), length_long_sentence, padding='post')\n",
    "test_sentences = pad_sequences(embed(test_1), length_long_sentence, padding='post')"
   ]
  },
  {
   "cell_type": "code",
   "execution_count": 28,
   "id": "dd5d7292-6883-478e-b4a1-e2b6c01d0126",
   "metadata": {},
   "outputs": [
    {
     "data": {
      "text/plain": [
       "24"
      ]
     },
     "execution_count": 28,
     "metadata": {},
     "output_type": "execute_result"
    }
   ],
   "source": [
    "length_long_sentence"
   ]
  },
  {
   "cell_type": "code",
   "execution_count": 29,
   "id": "246e4ccb-bb19-4841-9c98-b16d865d43e7",
   "metadata": {},
   "outputs": [],
   "source": [
    "embedding_matrix = np.zeros((vocab_length, embedding_dim))\n",
    "for word, index in word_tokenizer.word_index.items():\n",
    "    embedding_vector = embeddings_dictionary.get(word)\n",
    "    if embedding_vector is not None:\n",
    "        embedding_matrix[index] = embedding_vector"
   ]
  },
  {
   "cell_type": "code",
   "execution_count": 30,
   "id": "96d67c2e-be48-4c71-8f25-1a2ea1a498b3",
   "metadata": {},
   "outputs": [],
   "source": [
    "X_train, X_test, y_train, y_test = train_test_split(padded_sentences, sentiments, \n",
    "                                                    test_size=0.2, random_state = RANDOM_STATE)"
   ]
  },
  {
   "cell_type": "code",
   "execution_count": 31,
   "id": "80d85a51-2929-47a0-9e3e-7ecd83761259",
   "metadata": {},
   "outputs": [
    {
     "data": {
      "text/plain": [
       "(6090, 24)"
      ]
     },
     "execution_count": 31,
     "metadata": {},
     "output_type": "execute_result"
    }
   ],
   "source": [
    "X_train.shape"
   ]
  },
  {
   "cell_type": "code",
   "execution_count": 32,
   "id": "26320dbe-5661-4807-a711-0c25b9a3ac64",
   "metadata": {},
   "outputs": [
    {
     "data": {
      "text/plain": [
       "(1523, 24)"
      ]
     },
     "execution_count": 32,
     "metadata": {},
     "output_type": "execute_result"
    }
   ],
   "source": [
    "X_test.shape"
   ]
  },
  {
   "cell_type": "code",
   "execution_count": 33,
   "id": "34541855-8f24-465a-acbd-80f3e67f2c42",
   "metadata": {},
   "outputs": [
    {
     "data": {
      "text/plain": [
       "(6090,)"
      ]
     },
     "execution_count": 33,
     "metadata": {},
     "output_type": "execute_result"
    }
   ],
   "source": [
    "y_train.shape"
   ]
  },
  {
   "cell_type": "code",
   "execution_count": 34,
   "id": "8eeae743-e107-4cb1-b6d2-9efffeaefebd",
   "metadata": {},
   "outputs": [
    {
     "data": {
      "text/plain": [
       "(1523,)"
      ]
     },
     "execution_count": 34,
     "metadata": {},
     "output_type": "execute_result"
    }
   ],
   "source": [
    "y_test.shape"
   ]
  },
  {
   "cell_type": "code",
   "execution_count": 44,
   "id": "7528e77d-e4e8-4c7a-9045-4d51f20e6edf",
   "metadata": {},
   "outputs": [],
   "source": [
    "BATCH_SIZE = 16\n",
    "EPOCHS = 2"
   ]
  },
  {
   "cell_type": "code",
   "execution_count": 45,
   "id": "bdc6c64f-89ca-43ab-83e6-ffb211e0bb51",
   "metadata": {},
   "outputs": [],
   "source": [
    "model = Sequential()\n",
    "model.add(Embedding(input_dim=embedding_matrix.shape[0], \n",
    "                    output_dim=embedding_matrix.shape[1], \n",
    "                    weights = [embedding_matrix], \n",
    "                    input_length=length_long_sentence))\n",
    "model.add(Bidirectional(LSTM(length_long_sentence, return_sequences = True)))\n",
    "model.add(GlobalMaxPool1D())\n",
    "model.add(Dense(length_long_sentence, activation = \"relu\"))\n",
    "model.add(Dropout(0.3))\n",
    "model.add(Dense(1, activation = 'sigmoid'))\n",
    "model.compile(optimizer='adam', loss='binary_crossentropy', metrics=['accuracy'])"
   ]
  },
  {
   "cell_type": "code",
   "execution_count": 46,
   "id": "0ee69360-541a-45e2-8cf5-1393ceda0fef",
   "metadata": {},
   "outputs": [
    {
     "name": "stdout",
     "output_type": "stream",
     "text": [
      "Model: \"sequential_2\"\n",
      "_________________________________________________________________\n",
      "Layer (type)                 Output Shape              Param #   \n",
      "=================================================================\n",
      "embedding_2 (Embedding)      (None, 24, 100)           1571000   \n",
      "_________________________________________________________________\n",
      "bidirectional_2 (Bidirection (None, 24, 48)            24000     \n",
      "_________________________________________________________________\n",
      "global_max_pooling1d_2 (Glob (None, 48)                0         \n",
      "_________________________________________________________________\n",
      "dense_4 (Dense)              (None, 24)                1176      \n",
      "_________________________________________________________________\n",
      "dropout_2 (Dropout)          (None, 24)                0         \n",
      "_________________________________________________________________\n",
      "dense_5 (Dense)              (None, 1)                 25        \n",
      "=================================================================\n",
      "Total params: 1,596,201\n",
      "Trainable params: 1,596,201\n",
      "Non-trainable params: 0\n",
      "_________________________________________________________________\n"
     ]
    }
   ],
   "source": [
    "model.summary()"
   ]
  },
  {
   "cell_type": "code",
   "execution_count": 47,
   "id": "a63e88db-a08c-4f4c-b3ee-d173b941246f",
   "metadata": {},
   "outputs": [
    {
     "name": "stdout",
     "output_type": "stream",
     "text": [
      "Epoch 1/2\n",
      "381/381 [==============================] - 13s 26ms/step - loss: 0.5634 - accuracy: 0.7270 - val_loss: 0.4203 - val_accuracy: 0.8194\n",
      "Epoch 2/2\n",
      "381/381 [==============================] - 10s 26ms/step - loss: 0.3734 - accuracy: 0.8419 - val_loss: 0.4102 - val_accuracy: 0.8240\n"
     ]
    }
   ],
   "source": [
    "history = model.fit(X_train, \n",
    "                    y_train, \n",
    "                    epochs = EPOCHS, \n",
    "                    batch_size = BATCH_SIZE, \n",
    "                    validation_data = (X_test, y_test), \n",
    "                    verbose = 1)"
   ]
  },
  {
   "cell_type": "code",
   "execution_count": 48,
   "id": "fc8fd12d-fd11-45f9-93c6-4bf06311bada",
   "metadata": {},
   "outputs": [
    {
     "name": "stdout",
     "output_type": "stream",
     "text": [
      "Final loss: 0.410224, final accuracy: 0.824032\n"
     ]
    }
   ],
   "source": [
    "final_loss, final_acc = model.evaluate(X_test, y_test, verbose=0)\n",
    "print(\"Final loss: {0:.6f}, final accuracy: {1:.6f}\".format(final_loss, final_acc))"
   ]
  },
  {
   "cell_type": "code",
   "execution_count": 49,
   "id": "ecde05d0-c5fa-42eb-90b3-02cecd12a5cc",
   "metadata": {},
   "outputs": [],
   "source": [
    "def plot_confusion_matrix(cm, classes,\n",
    "                          normalize=False,\n",
    "                          title='Confusion matrix',\n",
    "                          cmap=plt.cm.Blues):\n",
    "    \"\"\"\n",
    "    This function prints and plots the confusion matrix.\n",
    "    Normalization can be applied by setting `normalize=True`.\n",
    "    \"\"\"\n",
    "    plt.imshow(cm, interpolation='nearest', cmap=cmap)\n",
    "    plt.title(title)\n",
    "    plt.colorbar()\n",
    "    tick_marks = np.arange(len(classes))\n",
    "    plt.xticks(tick_marks, classes, rotation=45)\n",
    "    plt.yticks(tick_marks, classes)\n",
    "\n",
    "    if normalize:\n",
    "        cm = cm.astype('float') / cm.sum(axis=1)[:, np.newaxis]\n",
    "\n",
    "    thresh = cm.max() / 2.\n",
    "    for i, j in itertools.product(range(cm.shape[0]), range(cm.shape[1])):\n",
    "        plt.text(j, i, cm[i, j],\n",
    "                 horizontalalignment=\"center\",\n",
    "                 color=\"white\" if cm[i, j] > thresh else \"black\")\n",
    "\n",
    "    plt.tight_layout()\n",
    "    plt.ylabel('True label')\n",
    "    plt.xlabel('Predicted label')"
   ]
  },
  {
   "cell_type": "code",
   "execution_count": 50,
   "id": "fa3b6d56-2eb8-4cfa-8433-6f573fb29164",
   "metadata": {},
   "outputs": [],
   "source": [
    "# Predict the values from the validation dataset\n",
    "y_pred = model.predict_classes(X_test)"
   ]
  },
  {
   "cell_type": "code",
   "execution_count": 51,
   "id": "507082b3-53b1-42c7-95d9-115fe855303f",
   "metadata": {},
   "outputs": [
    {
     "data": {
      "image/png": "[encoded data removed]",
      "text/plain": [
       "<Figure size 432x288 with 2 Axes>"
      ]
     },
     "metadata": {
      "needs_background": "light"
     },
     "output_type": "display_data"
    }
   ],
   "source": [
    "# compute the confusion matrix\n",
    "confusion_mtx = confusion_matrix(y_test, y_pred) \n",
    "# plot the confusion matrix\n",
    "plot_confusion_matrix(confusion_mtx, classes = range(2))"
   ]
  },
  {
   "cell_type": "code",
   "execution_count": 53,
   "id": "eb93acfc-16f2-43a1-bf84-72ecdac8a23a",
   "metadata": {},
   "outputs": [
    {
     "name": "stdout",
     "output_type": "stream",
     "text": [
      "dict_keys(['loss', 'accuracy', 'val_loss', 'val_accuracy'])\n"
     ]
    }
   ],
   "source": [
    "print(history.history.keys())\n",
    "accuracy = history.history['accuracy']\n",
    "val_accuracy = history.history['val_accuracy']\n",
    "loss = history.history['loss']\n",
    "val_loss = history.history['val_loss']\n",
    "epochs = range(len(accuracy))"
   ]
  },
  {
   "cell_type": "code",
   "execution_count": 54,
   "id": "8689f67e-0831-499e-aa77-0a0f16eda6f5",
   "metadata": {},
   "outputs": [
    {
     "data": {
      "image/png": "[encoded data removed]",
      "text/plain": [
       "<Figure size 432x288 with 1 Axes>"
      ]
     },
     "metadata": {
      "needs_background": "light"
     },
     "output_type": "display_data"
    },
    {
     "data": {
      "image/png": "[encoded data removed]",
      "text/plain": [
       "<Figure size 432x288 with 1 Axes>"
      ]
     },
     "metadata": {
      "needs_background": "light"
     },
     "output_type": "display_data"
    }
   ],
   "source": [
    "plt.plot(epochs, accuracy, 'bo', label='Training accuracy')\n",
    "plt.plot(epochs, val_accuracy, 'b', label='Validation accuracy')\n",
    "plt.title('Training and validation accuracy')\n",
    "plt.legend()\n",
    "plt.show()\n",
    "plt.figure()\n",
    "plt.plot(epochs, loss, 'bo', label='Training loss')\n",
    "plt.plot(epochs, val_loss, 'b', label='Validation loss')\n",
    "plt.title('Training and validation loss')\n",
    "plt.legend()\n",
    "plt.show()"
   ]
  },
  {
   "cell_type": "code",
   "execution_count": 55,
   "id": "fa99526a-a783-44cf-80aa-2c77f750cf47",
   "metadata": {},
   "outputs": [],
   "source": [
    "def metrics(pred_tag, y_test):\n",
    "    print(\"F1-score: \", f1_score(pred_tag, y_test))\n",
    "    print(\"Precision: \", precision_score(pred_tag, y_test))\n",
    "    print(\"Recall: \", recall_score(pred_tag, y_test))\n",
    "    print(\"Acuracy: \", accuracy_score(pred_tag, y_test))\n",
    "    print(\"-\"*50)\n",
    "    print(classification_report(pred_tag, y_test))"
   ]
  },
  {
   "cell_type": "code",
   "execution_count": 56,
   "id": "9dde0529-916b-4540-9a20-324ad1b85cdc",
   "metadata": {},
   "outputs": [
    {
     "name": "stdout",
     "output_type": "stream",
     "text": [
      "F1-score:  0.789308176100629\n",
      "Precision:  0.7687595712098009\n",
      "Recall:  0.8109854604200323\n",
      "Acuracy:  0.8240315167432699\n",
      "--------------------------------------------------\n",
      "              precision    recall  f1-score   support\n",
      "\n",
      "           0       0.87      0.83      0.85       904\n",
      "           1       0.77      0.81      0.79       619\n",
      "\n",
      "    accuracy                           0.82      1523\n",
      "   macro avg       0.82      0.82      0.82      1523\n",
      "weighted avg       0.83      0.82      0.82      1523\n",
      "\n"
     ]
    }
   ],
   "source": [
    "metrics(y_pred, y_test)"
   ]
  },
  {
   "cell_type": "code",
   "execution_count": 57,
   "id": "5bed4db2-221a-4684-b1e7-aa2817a78069",
   "metadata": {},
   "outputs": [
    {
     "data": {
      "text/html": [
       "<div>\n",
       "<style scoped>\n",
       "    .dataframe tbody tr th:only-of-type {\n",
       "        vertical-align: middle;\n",
       "    }\n",
       "\n",
       "    .dataframe tbody tr th {\n",
       "        vertical-align: top;\n",
       "    }\n",
       "\n",
       "    .dataframe thead th {\n",
       "        text-align: right;\n",
       "    }\n",
       "</style>\n",
       "<table border=\"1\" class=\"dataframe\">\n",
       "  <thead>\n",
       "    <tr style=\"text-align: right;\">\n",
       "      <th></th>\n",
       "      <th>id</th>\n",
       "      <th>keyword</th>\n",
       "      <th>location</th>\n",
       "      <th>text</th>\n",
       "      <th>text_clean</th>\n",
       "      <th>text_lemma</th>\n",
       "    </tr>\n",
       "  </thead>\n",
       "  <tbody>\n",
       "    <tr>\n",
       "      <th>0</th>\n",
       "      <td>0</td>\n",
       "      <td>NaN</td>\n",
       "      <td>NaN</td>\n",
       "      <td>just happened a terrible car crash</td>\n",
       "      <td>happened terrible car crash</td>\n",
       "      <td>happen terrible car crash</td>\n",
       "    </tr>\n",
       "    <tr>\n",
       "      <th>1</th>\n",
       "      <td>2</td>\n",
       "      <td>NaN</td>\n",
       "      <td>NaN</td>\n",
       "      <td>heard about #earthquake is different cities, s...</td>\n",
       "      <td>heard earthquake different cities stay safe ev...</td>\n",
       "      <td>hear earthquake different city stay safe everyone</td>\n",
       "    </tr>\n",
       "    <tr>\n",
       "      <th>2</th>\n",
       "      <td>3</td>\n",
       "      <td>NaN</td>\n",
       "      <td>NaN</td>\n",
       "      <td>there is a forest fire at spot pond, geese are...</td>\n",
       "      <td>forest fire spot pond geese fleeing across str...</td>\n",
       "      <td>forest fire spot pond geese fleeing across str...</td>\n",
       "    </tr>\n",
       "    <tr>\n",
       "      <th>3</th>\n",
       "      <td>9</td>\n",
       "      <td>NaN</td>\n",
       "      <td>NaN</td>\n",
       "      <td>apocalypse lighting. #spokane #wildfires</td>\n",
       "      <td>apocalypse lighting spokane wildfires</td>\n",
       "      <td>apocalypse light spokane wildfire</td>\n",
       "    </tr>\n",
       "    <tr>\n",
       "      <th>4</th>\n",
       "      <td>11</td>\n",
       "      <td>NaN</td>\n",
       "      <td>NaN</td>\n",
       "      <td>typhoon soudelor kills 28 in china and taiwan</td>\n",
       "      <td>typhoon soudelor kills 28 china taiwan</td>\n",
       "      <td>typhoon soudelor kill 28 china taiwan</td>\n",
       "    </tr>\n",
       "  </tbody>\n",
       "</table>\n",
       "</div>"
      ],
      "text/plain": [
       "   id keyword location                                               text  \\\n",
       "0   0     NaN      NaN                 just happened a terrible car crash   \n",
       "1   2     NaN      NaN  heard about #earthquake is different cities, s...   \n",
       "2   3     NaN      NaN  there is a forest fire at spot pond, geese are...   \n",
       "3   9     NaN      NaN           apocalypse lighting. #spokane #wildfires   \n",
       "4  11     NaN      NaN      typhoon soudelor kills 28 in china and taiwan   \n",
       "\n",
       "                                          text_clean  \\\n",
       "0                        happened terrible car crash   \n",
       "1  heard earthquake different cities stay safe ev...   \n",
       "2  forest fire spot pond geese fleeing across str...   \n",
       "3              apocalypse lighting spokane wildfires   \n",
       "4             typhoon soudelor kills 28 china taiwan   \n",
       "\n",
       "                                          text_lemma  \n",
       "0                          happen terrible car crash  \n",
       "1  hear earthquake different city stay safe everyone  \n",
       "2  forest fire spot pond geese fleeing across str...  \n",
       "3                  apocalypse light spokane wildfire  \n",
       "4              typhoon soudelor kill 28 china taiwan  "
      ]
     },
     "execution_count": 57,
     "metadata": {},
     "output_type": "execute_result"
    }
   ],
   "source": [
    "test.head()"
   ]
  },
  {
   "cell_type": "code",
   "execution_count": 58,
   "id": "837029d9-9ca0-4788-bdd2-a586d241b33a",
   "metadata": {},
   "outputs": [],
   "source": [
    "submission = pd.read_csv('sample_submission.csv')\n",
    "submission['target'] = model.predict_classes(test_sentences)"
   ]
  },
  {
   "cell_type": "code",
   "execution_count": 59,
   "id": "2652c3bc-a0bb-49e3-8682-97c67274ff44",
   "metadata": {},
   "outputs": [
    {
     "data": {
      "text/html": [
       "<div>\n",
       "<style scoped>\n",
       "    .dataframe tbody tr th:only-of-type {\n",
       "        vertical-align: middle;\n",
       "    }\n",
       "\n",
       "    .dataframe tbody tr th {\n",
       "        vertical-align: top;\n",
       "    }\n",
       "\n",
       "    .dataframe thead th {\n",
       "        text-align: right;\n",
       "    }\n",
       "</style>\n",
       "<table border=\"1\" class=\"dataframe\">\n",
       "  <thead>\n",
       "    <tr style=\"text-align: right;\">\n",
       "      <th></th>\n",
       "      <th>id</th>\n",
       "      <th>target</th>\n",
       "    </tr>\n",
       "  </thead>\n",
       "  <tbody>\n",
       "    <tr>\n",
       "      <th>0</th>\n",
       "      <td>0</td>\n",
       "      <td>1</td>\n",
       "    </tr>\n",
       "    <tr>\n",
       "      <th>1</th>\n",
       "      <td>2</td>\n",
       "      <td>1</td>\n",
       "    </tr>\n",
       "    <tr>\n",
       "      <th>2</th>\n",
       "      <td>3</td>\n",
       "      <td>1</td>\n",
       "    </tr>\n",
       "    <tr>\n",
       "      <th>3</th>\n",
       "      <td>9</td>\n",
       "      <td>1</td>\n",
       "    </tr>\n",
       "    <tr>\n",
       "      <th>4</th>\n",
       "      <td>11</td>\n",
       "      <td>1</td>\n",
       "    </tr>\n",
       "  </tbody>\n",
       "</table>\n",
       "</div>"
      ],
      "text/plain": [
       "   id  target\n",
       "0   0       1\n",
       "1   2       1\n",
       "2   3       1\n",
       "3   9       1\n",
       "4  11       1"
      ]
     },
     "execution_count": 59,
     "metadata": {},
     "output_type": "execute_result"
    }
   ],
   "source": [
    "submission.head()"
   ]
  },
  {
   "cell_type": "code",
   "execution_count": 60,
   "id": "5bfc0272-3809-4953-b7b1-215b2a5d56a2",
   "metadata": {},
   "outputs": [],
   "source": [
    "submission.to_csv(\"basic_lstm_lemma.csv\", index=False)"
   ]
  },
  {
   "cell_type": "code",
   "execution_count": null,
   "id": "2d6e9d86-5315-470c-84ac-f18ac6380852",
   "metadata": {},
   "outputs": [],
   "source": []
  }
 ],
 "metadata": {
  "kernelspec": {
   "display_name": "tf_gpu",
   "language": "python",
   "name": "tf_gpu"
  },
  "language_info": {
   "codemirror_mode": {
    "name": "ipython",
    "version": 3
   },
   "file_extension": ".py",
   "mimetype": "text/x-python",
   "name": "python",
   "nbconvert_exporter": "python",
   "pygments_lexer": "ipython3",
   "version": "3.7.10"
  }
 },
 "nbformat": 4,
 "nbformat_minor": 5
}
