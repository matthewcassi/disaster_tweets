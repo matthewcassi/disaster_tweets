{
 "cells": [
  {
   "cell_type": "code",
   "execution_count": 1,
   "id": "ffe7c12a-41e2-4df5-b555-2eb04c8548d9",
   "metadata": {},
   "outputs": [],
   "source": [
    "import warnings\n",
    "warnings.filterwarnings(\"ignore\")"
   ]
  },
  {
   "cell_type": "code",
   "execution_count": 2,
   "id": "149c1cc6-0ccf-44f0-bfbe-c462b9f1fb5a",
   "metadata": {},
   "outputs": [],
   "source": [
    "import pandas as pd\n",
    "import numpy as np\n",
    "import re\n",
    "import spacy\n",
    "import string"
   ]
  },
  {
   "cell_type": "code",
   "execution_count": 3,
   "id": "94af04ed-b9e2-4276-8eb9-89c9cc080ca9",
   "metadata": {},
   "outputs": [
    {
     "name": "stderr",
     "output_type": "stream",
     "text": [
      "[nltk_data] Downloading package stopwords to\n",
      "[nltk_data]     /Users/matthewcassi/nltk_data...\n",
      "[nltk_data]   Package stopwords is already up-to-date!\n",
      "[nltk_data] Downloading package punkt to\n",
      "[nltk_data]     /Users/matthewcassi/nltk_data...\n",
      "[nltk_data]   Package punkt is already up-to-date!\n",
      "[nltk_data] Downloading package averaged_perceptron_tagger to\n",
      "[nltk_data]     /Users/matthewcassi/nltk_data...\n",
      "[nltk_data]   Package averaged_perceptron_tagger is already up-to-\n",
      "[nltk_data]       date!\n",
      "[nltk_data] Downloading package wordnet to\n",
      "[nltk_data]     /Users/matthewcassi/nltk_data...\n",
      "[nltk_data]   Package wordnet is already up-to-date!\n"
     ]
    },
    {
     "data": {
      "text/plain": [
       "True"
      ]
     },
     "execution_count": 3,
     "metadata": {},
     "output_type": "execute_result"
    }
   ],
   "source": [
    "import nltk\n",
    "nltk.download('stopwords')\n",
    "nltk.download('punkt')\n",
    "nltk.download('averaged_perceptron_tagger')\n",
    "nltk.download('wordnet')"
   ]
  },
  {
   "cell_type": "code",
   "execution_count": 75,
   "id": "73958e9e-aaec-4b51-b4aa-7134c66790bf",
   "metadata": {},
   "outputs": [],
   "source": [
    "from nltk.corpus import stopwords\n",
    "stop = stopwords.words('english')"
   ]
  },
  {
   "cell_type": "code",
   "execution_count": 4,
   "id": "dcd14d1b-36bc-4759-8835-2149b7ed2b5d",
   "metadata": {},
   "outputs": [],
   "source": [
    "from collections import Counter, defaultdict"
   ]
  },
  {
   "cell_type": "code",
   "execution_count": 5,
   "id": "3f9bee10-e435-488e-9add-c80bb67a77f1",
   "metadata": {},
   "outputs": [],
   "source": [
    "import matplotlib.pyplot as plt\n",
    "import seaborn as sns"
   ]
  },
  {
   "cell_type": "code",
   "execution_count": 6,
   "id": "5e85fd79-9268-47f0-966d-3bb324120b64",
   "metadata": {},
   "outputs": [],
   "source": [
    "from sklearn.feature_extraction.text import CountVectorizer"
   ]
  },
  {
   "cell_type": "code",
   "execution_count": 7,
   "id": "a1c108d7-405a-4c61-9deb-f687c08b30b2",
   "metadata": {},
   "outputs": [],
   "source": [
    "train = pd.read_csv(\"train.csv\")\n",
    "test = pd.read_csv(\"test.csv\")"
   ]
  },
  {
   "cell_type": "code",
   "execution_count": 13,
   "id": "195e3ca8-081c-4909-a667-f63bc4dbfa79",
   "metadata": {},
   "outputs": [
    {
     "data": {
      "text/html": [
       "<div>\n",
       "<style scoped>\n",
       "    .dataframe tbody tr th:only-of-type {\n",
       "        vertical-align: middle;\n",
       "    }\n",
       "\n",
       "    .dataframe tbody tr th {\n",
       "        vertical-align: top;\n",
       "    }\n",
       "\n",
       "    .dataframe thead th {\n",
       "        text-align: right;\n",
       "    }\n",
       "</style>\n",
       "<table border=\"1\" class=\"dataframe\">\n",
       "  <thead>\n",
       "    <tr style=\"text-align: right;\">\n",
       "      <th></th>\n",
       "      <th>id</th>\n",
       "      <th>keyword</th>\n",
       "      <th>location</th>\n",
       "      <th>text</th>\n",
       "      <th>target</th>\n",
       "    </tr>\n",
       "  </thead>\n",
       "  <tbody>\n",
       "    <tr>\n",
       "      <th>0</th>\n",
       "      <td>1</td>\n",
       "      <td>NaN</td>\n",
       "      <td>NaN</td>\n",
       "      <td>our deeds are the reason of this #earthquake m...</td>\n",
       "      <td>1</td>\n",
       "    </tr>\n",
       "    <tr>\n",
       "      <th>1</th>\n",
       "      <td>4</td>\n",
       "      <td>NaN</td>\n",
       "      <td>NaN</td>\n",
       "      <td>forest fire near la ronge sask. canada</td>\n",
       "      <td>1</td>\n",
       "    </tr>\n",
       "    <tr>\n",
       "      <th>2</th>\n",
       "      <td>5</td>\n",
       "      <td>NaN</td>\n",
       "      <td>NaN</td>\n",
       "      <td>all residents asked to 'shelter in place' are ...</td>\n",
       "      <td>1</td>\n",
       "    </tr>\n",
       "    <tr>\n",
       "      <th>3</th>\n",
       "      <td>6</td>\n",
       "      <td>NaN</td>\n",
       "      <td>NaN</td>\n",
       "      <td>13,000 people receive #wildfires evacuation or...</td>\n",
       "      <td>1</td>\n",
       "    </tr>\n",
       "    <tr>\n",
       "      <th>4</th>\n",
       "      <td>7</td>\n",
       "      <td>NaN</td>\n",
       "      <td>NaN</td>\n",
       "      <td>just got sent this photo from ruby #alaska as ...</td>\n",
       "      <td>1</td>\n",
       "    </tr>\n",
       "  </tbody>\n",
       "</table>\n",
       "</div>"
      ],
      "text/plain": [
       "   id keyword location                                               text  \\\n",
       "0   1     NaN      NaN  our deeds are the reason of this #earthquake m...   \n",
       "1   4     NaN      NaN             forest fire near la ronge sask. canada   \n",
       "2   5     NaN      NaN  all residents asked to 'shelter in place' are ...   \n",
       "3   6     NaN      NaN  13,000 people receive #wildfires evacuation or...   \n",
       "4   7     NaN      NaN  just got sent this photo from ruby #alaska as ...   \n",
       "\n",
       "   target  \n",
       "0       1  \n",
       "1       1  \n",
       "2       1  \n",
       "3       1  \n",
       "4       1  "
      ]
     },
     "execution_count": 13,
     "metadata": {},
     "output_type": "execute_result"
    }
   ],
   "source": [
    "train.head()"
   ]
  },
  {
   "cell_type": "code",
   "execution_count": 9,
   "id": "16830ccf-cdc7-4f31-bc19-7487f57866df",
   "metadata": {},
   "outputs": [
    {
     "data": {
      "text/plain": [
       "fatalities               45\n",
       "deluge                   42\n",
       "armageddon               42\n",
       "sinking                  41\n",
       "body%20bags              41\n",
       "                         ..\n",
       "forest%20fire            19\n",
       "epicentre                12\n",
       "threat                   11\n",
       "inundation               10\n",
       "radiation%20emergency     9\n",
       "Name: keyword, Length: 221, dtype: int64"
      ]
     },
     "execution_count": 9,
     "metadata": {},
     "output_type": "execute_result"
    }
   ],
   "source": [
    "train.keyword.value_counts()"
   ]
  },
  {
   "cell_type": "code",
   "execution_count": 10,
   "id": "6f6c651e-4da8-47cf-b697-7b315792c162",
   "metadata": {},
   "outputs": [
    {
     "data": {
      "text/plain": [
       "USA                        104\n",
       "New York                    71\n",
       "United States               50\n",
       "London                      45\n",
       "Canada                      29\n",
       "                          ... \n",
       "MÌ©xico D.F.                 1\n",
       "Instagram: trillrebel_       1\n",
       "Bolton & Tewkesbury, UK      1\n",
       "Alicante, Spain              1\n",
       "Croydon                      1\n",
       "Name: location, Length: 3341, dtype: int64"
      ]
     },
     "execution_count": 10,
     "metadata": {},
     "output_type": "execute_result"
    }
   ],
   "source": [
    "train.location.value_counts()"
   ]
  },
  {
   "cell_type": "code",
   "execution_count": 11,
   "id": "2b6e47b3-a396-4b73-9c39-2a3d574b9de8",
   "metadata": {},
   "outputs": [],
   "source": [
    "train['text'] = train['text'].str.lower()"
   ]
  },
  {
   "cell_type": "code",
   "execution_count": 12,
   "id": "07d8ae04-64c6-40a3-b9d7-87e291d58b81",
   "metadata": {},
   "outputs": [
    {
     "data": {
      "text/plain": [
       "(7613, 5)"
      ]
     },
     "execution_count": 12,
     "metadata": {},
     "output_type": "execute_result"
    }
   ],
   "source": [
    "train.shape"
   ]
  },
  {
   "cell_type": "code",
   "execution_count": 14,
   "id": "4d1c11a9-90eb-41e6-bd70-221fde3f2ad3",
   "metadata": {},
   "outputs": [
    {
     "data": {
      "text/plain": [
       "<matplotlib.axes._subplots.AxesSubplot at 0x7feb909f46d0>"
      ]
     },
     "execution_count": 14,
     "metadata": {},
     "output_type": "execute_result"
    },
    {
     "data": {
      "image/png": "[encoded data removed]",
      "text/plain": [
       "<Figure size 432x288 with 1 Axes>"
      ]
     },
     "metadata": {
      "needs_background": "light"
     },
     "output_type": "display_data"
    }
   ],
   "source": [
    "# Distribution of Disaster vs Non-Disaster\n",
    "sns.countplot(train['target'])"
   ]
  },
  {
   "cell_type": "code",
   "execution_count": 15,
   "id": "503272b3-1e1c-47cb-9c4d-90bb30616225",
   "metadata": {},
   "outputs": [
    {
     "data": {
      "text/plain": [
       "0    4342\n",
       "1    3271\n",
       "Name: target, dtype: int64"
      ]
     },
     "execution_count": 15,
     "metadata": {},
     "output_type": "execute_result"
    }
   ],
   "source": [
    "train.target.value_counts()"
   ]
  },
  {
   "cell_type": "code",
   "execution_count": 16,
   "id": "10cd3b3b-1293-4b4a-a401-da47ab4f68c9",
   "metadata": {},
   "outputs": [
    {
     "name": "stdout",
     "output_type": "stream",
     "text": [
      "our deeds are the reason of this #earthquake may allah forgive us all\n",
      "forest fire near la ronge sask. canada\n",
      "all residents asked to 'shelter in place' are being notified by officers. no other evacuation or shelter in place orders are expected\n",
      "13,000 people receive #wildfires evacuation orders in california \n",
      "just got sent this photo from ruby #alaska as smoke from #wildfires pours into a school \n",
      "#rockyfire update => california hwy. 20 closed in both directions due to lake county fire - #cafire #wildfires\n",
      "#flood #disaster heavy rain causes flash flooding of streets in manitou, colorado springs areas\n",
      "i'm on top of the hill and i can see a fire in the woods...\n",
      "there's an emergency evacuation happening now in the building across the street\n",
      "i'm afraid that the tornado is coming to our area...\n"
     ]
    }
   ],
   "source": [
    "for i in np.arange(10):\n",
    "     print(train.text[i])"
   ]
  },
  {
   "cell_type": "code",
   "execution_count": 17,
   "id": "50ed63d7-9c9a-4a0c-b0af-1289c3fedfde",
   "metadata": {},
   "outputs": [],
   "source": [
    "# Calculate the lengths of the text\n",
    "non_dis_len = train[train.target == 0]['text'].str.len()\n",
    "dis_len = train[train.target == 1]['text'].str.len()"
   ]
  },
  {
   "cell_type": "code",
   "execution_count": 18,
   "id": "117494ee-b98a-4a4b-b17d-60d0540d56da",
   "metadata": {},
   "outputs": [
    {
     "data": {
      "text/plain": [
       "Text(0.5, 1.0, 'Disaster Tweets')"
      ]
     },
     "execution_count": 18,
     "metadata": {},
     "output_type": "execute_result"
    },
    {
     "data": {
      "image/png": "[encoded data removed]",
      "text/plain": [
       "<Figure size 720x360 with 2 Axes>"
      ]
     },
     "metadata": {
      "needs_background": "light"
     },
     "output_type": "display_data"
    }
   ],
   "source": [
    "# plot the lengths of the text from each type disaster vs non-disaster\n",
    "fig,(ax1,ax2) = plt.subplots(1,2,figsize=(10,5))\n",
    "ax1.hist(non_dis_len)\n",
    "ax1.set_title(\"Non-Disaster Tweets\")\n",
    "ax2.hist(dis_len)\n",
    "ax2.set_title(\"Disaster Tweets\")"
   ]
  },
  {
   "cell_type": "code",
   "execution_count": 19,
   "id": "9c5e1c17-fae8-44ba-b0f6-0fee12d3c432",
   "metadata": {},
   "outputs": [],
   "source": [
    "# Load the Spacy Model\n",
    "nlp = spacy.load(\"en_core_web_sm\")"
   ]
  },
  {
   "cell_type": "code",
   "execution_count": 20,
   "id": "94756f61-e25b-4df2-b461-50b2ffe57295",
   "metadata": {},
   "outputs": [],
   "source": [
    "# Count the number of words\n",
    "disaster_words = train[train['target']==1]['text'].str.split().map(lambda x: len(x))\n",
    "non_disaster_words = train[train['target']==0]['text'].str.split().map(lambda x: len(x))"
   ]
  },
  {
   "cell_type": "code",
   "execution_count": 21,
   "id": "f3d8ff52-68e1-4ec0-8c76-6133ba72a06c",
   "metadata": {},
   "outputs": [
    {
     "data": {
      "text/plain": [
       "Text(0.5, 1.0, 'Disaster Tweets')"
      ]
     },
     "execution_count": 21,
     "metadata": {},
     "output_type": "execute_result"
    },
    {
     "data": {
      "image/png": "[encoded data removed]",
      "text/plain": [
       "<Figure size 720x360 with 2 Axes>"
      ]
     },
     "metadata": {
      "needs_background": "light"
     },
     "output_type": "display_data"
    }
   ],
   "source": [
    "# Plot number of words for each type of tweet\n",
    "fig,(ax1,ax2) = plt.subplots(1,2,figsize=(10,5))\n",
    "ax1.hist(non_disaster_words)\n",
    "ax1.set_title(\"Non-Disaster Tweets\")\n",
    "ax2.hist(disaster_words)\n",
    "ax2.set_title(\"Disaster Tweets\")"
   ]
  },
  {
   "cell_type": "code",
   "execution_count": 22,
   "id": "be11e7bd-3c1d-4200-8f56-598962f27efe",
   "metadata": {},
   "outputs": [],
   "source": [
    "def count_words(text):\n",
    "    \"\"\" Counts the number of words using Spacy\"\"\"\n",
    "    doc = nlp(text)\n",
    "    count_words = 0\n",
    "    # Iterate over the tokens in the doc\n",
    "    for token in doc:\n",
    "        # Check if the token resembles a word\n",
    "        if token.is_alpha:\n",
    "            count_words += 1\n",
    "    return count_words\n",
    "\n",
    "def count_numbers(text):\n",
    "    \"\"\" Counts the number of numbers using Spacy\"\"\"\n",
    "    doc = nlp(text)\n",
    "    count_nums = 0\n",
    "    # Iterate over the tokens in the doc\n",
    "    for token in doc:\n",
    "        # Check if the token resembles a word\n",
    "        if token.like_num:\n",
    "            count_nums += 1\n",
    "    return count_nums\n",
    "\n",
    "def count_punc(text):\n",
    "    \"\"\" Counts the number of punctuation symbols using Spacy\"\"\"\n",
    "    doc = nlp(text)\n",
    "    count_punct = 0\n",
    "    # Iterate over the tokens in the doc\n",
    "    for token in doc:\n",
    "        # Check if the token resembles a word\n",
    "        if token.is_punct:\n",
    "            count_punct += 1\n",
    "    return count_punct"
   ]
  },
  {
   "cell_type": "code",
   "execution_count": 23,
   "id": "eb8ef7ce-395a-4bd1-af3b-7c14518e7e91",
   "metadata": {},
   "outputs": [],
   "source": [
    "non_disaster = train[train.target == 0]['text'].to_list()\n",
    "disaster = train[train.target == 1]['text'].to_list()"
   ]
  },
  {
   "cell_type": "code",
   "execution_count": 24,
   "id": "d91831ba-40c0-403a-841a-fbd6ad07c000",
   "metadata": {},
   "outputs": [],
   "source": [
    "# Calculate number of words in each tweet using Spacy\n",
    "nd_words = [count_words(text) for text in non_disaster]\n",
    "d_words = [count_words(text) for text in disaster]"
   ]
  },
  {
   "cell_type": "code",
   "execution_count": 25,
   "id": "71e22709-d0d5-4d06-9343-5e2bc1ec5248",
   "metadata": {},
   "outputs": [
    {
     "data": {
      "text/plain": [
       "Text(0.5, 1.0, 'Disaster Tweets')"
      ]
     },
     "execution_count": 25,
     "metadata": {},
     "output_type": "execute_result"
    },
    {
     "data": {
      "image/png": "[encoded data removed]",
      "text/plain": [
       "<Figure size 720x360 with 2 Axes>"
      ]
     },
     "metadata": {
      "needs_background": "light"
     },
     "output_type": "display_data"
    }
   ],
   "source": [
    "# Plot number of words based on Spacy calcs\n",
    "fig,(ax1,ax2) = plt.subplots(1,2,figsize=(10,5))\n",
    "ax1.hist(nd_words)\n",
    "ax1.set_title(\"Non-Disaster Tweets\")\n",
    "ax2.hist(d_words)\n",
    "ax2.set_title(\"Disaster Tweets\")"
   ]
  },
  {
   "cell_type": "code",
   "execution_count": 26,
   "id": "eead12c6-701a-4575-9542-08cabec8e20f",
   "metadata": {},
   "outputs": [],
   "source": [
    "# Count number of numbers using Spacy\n",
    "nd_nums = [count_numbers(text) for text in non_disaster]\n",
    "d_nums = [count_numbers(text) for text in disaster]"
   ]
  },
  {
   "cell_type": "code",
   "execution_count": 27,
   "id": "d27cca52-a3c2-4cab-bcbf-101729a56c33",
   "metadata": {},
   "outputs": [
    {
     "data": {
      "text/plain": [
       "Text(0.5, 1.0, 'Disaster Tweets')"
      ]
     },
     "execution_count": 27,
     "metadata": {},
     "output_type": "execute_result"
    },
    {
     "data": {
      "image/png": "[encoded data removed]",
      "text/plain": [
       "<Figure size 720x360 with 2 Axes>"
      ]
     },
     "metadata": {
      "needs_background": "light"
     },
     "output_type": "display_data"
    }
   ],
   "source": [
    "# Plot number of numbers\n",
    "fig,(ax1,ax2) = plt.subplots(1,2,figsize=(10,5))\n",
    "ax1.hist(nd_nums)\n",
    "ax1.set_title(\"Non-Disaster Tweets\")\n",
    "ax2.hist(d_nums)\n",
    "ax2.set_title(\"Disaster Tweets\")"
   ]
  },
  {
   "cell_type": "code",
   "execution_count": 28,
   "id": "79e86e79-6860-47ce-bd9c-374d9c32fb2f",
   "metadata": {},
   "outputs": [],
   "source": [
    "# Calculate number of punctuation symbols\n",
    "nd_puncts = [count_punc(text) for text in non_disaster]\n",
    "d_puncts = [count_punc(text) for text in disaster]"
   ]
  },
  {
   "cell_type": "code",
   "execution_count": 29,
   "id": "a27280bd-1263-484c-836e-1e4a4d56f1d1",
   "metadata": {},
   "outputs": [
    {
     "data": {
      "text/plain": [
       "Text(0.5, 1.0, 'Disaster Tweets')"
      ]
     },
     "execution_count": 29,
     "metadata": {},
     "output_type": "execute_result"
    },
    {
     "data": {
      "image/png": "[encoded data removed]",
      "text/plain": [
       "<Figure size 720x360 with 2 Axes>"
      ]
     },
     "metadata": {
      "needs_background": "light"
     },
     "output_type": "display_data"
    }
   ],
   "source": [
    "# Plot number of punctuation symbols\n",
    "fig,(ax1,ax2) = plt.subplots(1,2,figsize=(10,5))\n",
    "ax1.hist(nd_puncts)\n",
    "ax1.set_title(\"Non-Disaster Tweets\")\n",
    "ax2.hist(d_puncts)\n",
    "ax2.set_title(\"Disaster Tweets\")"
   ]
  },
  {
   "cell_type": "code",
   "execution_count": 30,
   "id": "f5e3ce70-9aeb-4906-bbdd-d1927a189c5d",
   "metadata": {},
   "outputs": [],
   "source": [
    "def get_ner(text):\n",
    "    \"\"\" Get the named entities for each tweet\"\"\"\n",
    "    doc = nlp(text)\n",
    "    return [X.label_ for X in doc.ents]"
   ]
  },
  {
   "cell_type": "code",
   "execution_count": 31,
   "id": "5214b8fe-ebb1-414f-b105-79d4ab62b194",
   "metadata": {},
   "outputs": [],
   "source": [
    "# Get the named entities for non-disaster tweets\n",
    "ent_nd = [get_ner(text) for text in non_disaster] \n",
    "ent_nd = [x for sub in ent_nd for x in sub]"
   ]
  },
  {
   "cell_type": "code",
   "execution_count": 32,
   "id": "b0942142-889a-49eb-afad-6abd0db6dbd1",
   "metadata": {},
   "outputs": [],
   "source": [
    "# Get the named entities for disaster tweets\n",
    "ent_d = [get_ner(text) for text in disaster] \n",
    "ent_d = [x for sub in ent_d for x in sub]"
   ]
  },
  {
   "cell_type": "code",
   "execution_count": 33,
   "id": "1138e4f6-5aa2-4cae-8f01-cb7fb2b9a248",
   "metadata": {},
   "outputs": [],
   "source": [
    "# Use counter to count the NERs\n",
    "counter_d = Counter(ent_d)\n",
    "count_d = counter_d.most_common(15)\n",
    "\n",
    "counter_nd = Counter(ent_nd)\n",
    "count_nd = counter_nd.most_common(15)"
   ]
  },
  {
   "cell_type": "code",
   "execution_count": 34,
   "id": "2b1f781f-fc69-455e-a1b7-281038e08563",
   "metadata": {},
   "outputs": [
    {
     "data": {
      "text/plain": [
       "<matplotlib.axes._subplots.AxesSubplot at 0x7feb983aaed0>"
      ]
     },
     "execution_count": 34,
     "metadata": {},
     "output_type": "execute_result"
    },
    {
     "data": {
      "image/png": "[encoded data removed]",
      "text/plain": [
       "<Figure size 432x288 with 1 Axes>"
      ]
     },
     "metadata": {
      "needs_background": "light"
     },
     "output_type": "display_data"
    }
   ],
   "source": [
    "# Plot NERs for non-disaster\n",
    "x, y = map(list, zip(*count_nd))\n",
    "sns.barplot(x=y, y=x)"
   ]
  },
  {
   "cell_type": "code",
   "execution_count": 35,
   "id": "1db919cc-7a33-4fe2-86d7-8c2f677ff2d4",
   "metadata": {},
   "outputs": [
    {
     "data": {
      "text/plain": [
       "<matplotlib.axes._subplots.AxesSubplot at 0x7feb985c0e50>"
      ]
     },
     "execution_count": 35,
     "metadata": {},
     "output_type": "execute_result"
    },
    {
     "data": {
      "image/png": "[encoded data removed]",
      "text/plain": [
       "<Figure size 432x288 with 1 Axes>"
      ]
     },
     "metadata": {
      "needs_background": "light"
     },
     "output_type": "display_data"
    }
   ],
   "source": [
    "# Plot NERs for disaster\n",
    "x, y = map(list, zip(*count_d))\n",
    "sns.barplot(x=y, y=x)"
   ]
  },
  {
   "cell_type": "code",
   "execution_count": 36,
   "id": "dbd0eac0-5f52-4b35-8b65-f2de3088ade7",
   "metadata": {},
   "outputs": [],
   "source": [
    "def remove_URL(text):\n",
    "    \"\"\"Remove URLs from text\"\"\"\n",
    "    url = re.compile(r'https?://\\S+|www\\.\\S+')\n",
    "    return url.sub(r'', text)\n",
    "\n",
    "\n",
    "def remove_emoji(text):\n",
    "    \"\"\"Remove emojis from text\"\"\"\n",
    "    emoji_pattern = re.compile(\n",
    "        '['\n",
    "        u'\\U0001F600-\\U0001F64F'  # emoticons\n",
    "        u'\\U0001F300-\\U0001F5FF'  # symbols & pictographs\n",
    "        u'\\U0001F680-\\U0001F6FF'  # transport & map symbols\n",
    "        u'\\U0001F1E0-\\U0001F1FF'  # flags (iOS)\n",
    "        u'\\U00002702-\\U000027B0'\n",
    "        u'\\U000024C2-\\U0001F251'\n",
    "        ']+',\n",
    "        flags=re.UNICODE)\n",
    "    return emoji_pattern.sub(r'', text)\n",
    "\n",
    "\n",
    "def remove_html(text):\n",
    "    \"\"\"Remove HTML from text\"\"\"\n",
    "    html = re.compile(r'<.*?>|&([a-z0-9]+|#[0-9]{1,6}|#x[0-9a-f]{1,6});')\n",
    "    return re.sub(html, '', text)\n",
    "\n",
    "def remove_punctuation(text):\n",
    "    return text.translate(str.maketrans('', '', string.punctuation))"
   ]
  },
  {
   "cell_type": "code",
   "execution_count": 79,
   "id": "dc237693-d196-4316-9130-75ec58978360",
   "metadata": {},
   "outputs": [],
   "source": [
    "# Create dataframes for countvectorizers\n",
    "disaster_df = train[train.target == 1]\n",
    "non_disaster_df = train[train.target == 0]"
   ]
  },
  {
   "cell_type": "code",
   "execution_count": 80,
   "id": "e4a8246e-41d8-4eac-aba0-8ac418489d98",
   "metadata": {},
   "outputs": [],
   "source": [
    "# Clean text: remove URLs, remove emojis, remove HTML\n",
    "disaster_df['text_clean'] = disaster_df['text'].apply(lambda x: remove_URL(x))\n",
    "disaster_df['text_clean'] = disaster_df['text_clean'].apply(lambda x: remove_emoji(x))\n",
    "disaster_df['text_clean'] = disaster_df['text_clean'].apply(lambda x: remove_html(x))\n",
    "disaster_df['text_clean'] = disaster_df['text_clean'].apply(lambda x: remove_punctuation(x))"
   ]
  },
  {
   "cell_type": "code",
   "execution_count": 81,
   "id": "9a2512c8-46c8-45f4-b051-f09cff8f7809",
   "metadata": {},
   "outputs": [],
   "source": [
    "disaster_df['text_clean'] = disaster_df['text_clean'].apply(lambda x: ' '.join([word for word in x.split() if word not in (stop)]))"
   ]
  },
  {
   "cell_type": "code",
   "execution_count": 82,
   "id": "dd16b229-035f-4673-a16a-22544773a1ac",
   "metadata": {},
   "outputs": [],
   "source": [
    "# Clean text: remove URLs, remove emojis, remove HTML\n",
    "non_disaster_df['text_clean'] = non_disaster_df['text'].apply(lambda x: remove_URL(x))\n",
    "non_disaster_df['text_clean'] = non_disaster_df['text_clean'].apply(lambda x: remove_emoji(x))\n",
    "non_disaster_df['text_clean'] = non_disaster_df['text_clean'].apply(lambda x: remove_html(x))\n",
    "non_disaster_df['text_clean'] = non_disaster_df['text_clean'].apply(lambda x: remove_punctuation(x))"
   ]
  },
  {
   "cell_type": "code",
   "execution_count": 83,
   "id": "eb453ab2-1e94-4a3e-87f7-7c964b6593ef",
   "metadata": {},
   "outputs": [],
   "source": [
    "non_disaster_df['text_clean'] = non_disaster_df['text_clean'].apply(lambda x: ' '.join([word for word in x.split() if word not in (stop)]))"
   ]
  },
  {
   "cell_type": "code",
   "execution_count": 84,
   "id": "6d42c821-7b38-491f-9c9d-5da81eb7073e",
   "metadata": {},
   "outputs": [
    {
     "data": {
      "text/html": [
       "<div>\n",
       "<style scoped>\n",
       "    .dataframe tbody tr th:only-of-type {\n",
       "        vertical-align: middle;\n",
       "    }\n",
       "\n",
       "    .dataframe tbody tr th {\n",
       "        vertical-align: top;\n",
       "    }\n",
       "\n",
       "    .dataframe thead th {\n",
       "        text-align: right;\n",
       "    }\n",
       "</style>\n",
       "<table border=\"1\" class=\"dataframe\">\n",
       "  <thead>\n",
       "    <tr style=\"text-align: right;\">\n",
       "      <th></th>\n",
       "      <th>id</th>\n",
       "      <th>keyword</th>\n",
       "      <th>location</th>\n",
       "      <th>text</th>\n",
       "      <th>target</th>\n",
       "      <th>text_clean</th>\n",
       "    </tr>\n",
       "  </thead>\n",
       "  <tbody>\n",
       "    <tr>\n",
       "      <th>15</th>\n",
       "      <td>23</td>\n",
       "      <td>NaN</td>\n",
       "      <td>NaN</td>\n",
       "      <td>what's up man?</td>\n",
       "      <td>0</td>\n",
       "      <td>whats man</td>\n",
       "    </tr>\n",
       "    <tr>\n",
       "      <th>16</th>\n",
       "      <td>24</td>\n",
       "      <td>NaN</td>\n",
       "      <td>NaN</td>\n",
       "      <td>i love fruits</td>\n",
       "      <td>0</td>\n",
       "      <td>love fruits</td>\n",
       "    </tr>\n",
       "    <tr>\n",
       "      <th>17</th>\n",
       "      <td>25</td>\n",
       "      <td>NaN</td>\n",
       "      <td>NaN</td>\n",
       "      <td>summer is lovely</td>\n",
       "      <td>0</td>\n",
       "      <td>summer lovely</td>\n",
       "    </tr>\n",
       "    <tr>\n",
       "      <th>18</th>\n",
       "      <td>26</td>\n",
       "      <td>NaN</td>\n",
       "      <td>NaN</td>\n",
       "      <td>my car is so fast</td>\n",
       "      <td>0</td>\n",
       "      <td>car fast</td>\n",
       "    </tr>\n",
       "    <tr>\n",
       "      <th>19</th>\n",
       "      <td>28</td>\n",
       "      <td>NaN</td>\n",
       "      <td>NaN</td>\n",
       "      <td>what a goooooooaaaaaal!!!!!!</td>\n",
       "      <td>0</td>\n",
       "      <td>goooooooaaaaaal</td>\n",
       "    </tr>\n",
       "  </tbody>\n",
       "</table>\n",
       "</div>"
      ],
      "text/plain": [
       "    id keyword location                          text  target       text_clean\n",
       "15  23     NaN      NaN                what's up man?       0        whats man\n",
       "16  24     NaN      NaN                 i love fruits       0      love fruits\n",
       "17  25     NaN      NaN              summer is lovely       0    summer lovely\n",
       "18  26     NaN      NaN             my car is so fast       0         car fast\n",
       "19  28     NaN      NaN  what a goooooooaaaaaal!!!!!!       0  goooooooaaaaaal"
      ]
     },
     "execution_count": 84,
     "metadata": {},
     "output_type": "execute_result"
    }
   ],
   "source": [
    "non_disaster_df.head()"
   ]
  },
  {
   "cell_type": "code",
   "execution_count": 85,
   "id": "cbae9407-2e34-46f0-b1f5-dc27ca0b753d",
   "metadata": {},
   "outputs": [
    {
     "name": "stdout",
     "output_type": "stream",
     "text": [
      "whats man\n",
      "love fruits\n",
      "summer lovely\n",
      "car fast\n",
      "goooooooaaaaaal\n",
      "ridiculous\n",
      "london cool\n",
      "love skiing\n",
      "wonderful day\n",
      "looooool\n"
     ]
    }
   ],
   "source": [
    "for i in np.arange(10):\n",
    "     print(non_disaster_df.text_clean.to_list()[i])"
   ]
  },
  {
   "cell_type": "code",
   "execution_count": 86,
   "id": "6883912f-020f-4dfc-b8fd-83e4e5ca0387",
   "metadata": {},
   "outputs": [
    {
     "name": "stdout",
     "output_type": "stream",
     "text": [
      "deeds reason earthquake may allah forgive us\n",
      "forest fire near la ronge sask canada\n",
      "residents asked shelter place notified officers evacuation shelter place orders expected\n",
      "13000 people receive wildfires evacuation orders california\n",
      "got sent photo ruby alaska smoke wildfires pours school\n",
      "rockyfire update california hwy 20 closed directions due lake county fire cafire wildfires\n",
      "flood disaster heavy rain causes flash flooding streets manitou colorado springs areas\n",
      "im top hill see fire woods\n",
      "theres emergency evacuation happening building across street\n",
      "im afraid tornado coming area\n"
     ]
    }
   ],
   "source": [
    "for i in np.arange(10):\n",
    "     print(disaster_df.text_clean.to_list()[i])"
   ]
  },
  {
   "cell_type": "code",
   "execution_count": 87,
   "id": "76986756-1da7-42f5-9c16-b15aefd96afc",
   "metadata": {},
   "outputs": [],
   "source": [
    "def count_vectors(df, col, ngrams):\n",
    "    \"\"\"Counts number of words or ngrams\"\"\"\n",
    "    vec = CountVectorizer(stop_words = 'english', max_df = 0.9, ngram_range = (ngrams, ngrams))\n",
    "    bow = vec.fit_transform(df[col])\n",
    "    sum_bow = bow.sum(axis=0)\n",
    "    # Count ngrams\n",
    "    words_freq = [(word, sum_bow[0, idx])\n",
    "                       for word, idx in vec.vocabulary_.items()]\n",
    "    words_freq = sorted(words_freq, key=lambda x: x[1], reverse=True)\n",
    "    \n",
    "    return words_freq"
   ]
  },
  {
   "cell_type": "code",
   "execution_count": 88,
   "id": "81022a64-2223-4543-8253-0a2b1737c18a",
   "metadata": {},
   "outputs": [],
   "source": [
    "words_freq_non_disaster = count_vectors(non_disaster_df, 'text_clean', 1)\n",
    "words_freq_disaster = count_vectors(disaster_df, 'text_clean', 1)"
   ]
  },
  {
   "cell_type": "code",
   "execution_count": 89,
   "id": "cf0beb21-69da-473d-8dc5-365632ab435c",
   "metadata": {},
   "outputs": [
    {
     "data": {
      "text/plain": [
       "<matplotlib.axes._subplots.AxesSubplot at 0x7feb9a08a6d0>"
      ]
     },
     "execution_count": 89,
     "metadata": {},
     "output_type": "execute_result"
    },
    {
     "data": {
      "image/png": "[encoded data removed]",
      "text/plain": [
       "<Figure size 432x288 with 1 Axes>"
      ]
     },
     "metadata": {
      "needs_background": "light"
     },
     "output_type": "display_data"
    }
   ],
   "source": [
    "# Plot disaster unigrams\n",
    "x, y = map(list, zip(*words_freq_disaster[:20]))\n",
    "sns.barplot(x=y, y=x)"
   ]
  },
  {
   "cell_type": "code",
   "execution_count": 90,
   "id": "8f389dbe-2dfc-4b46-b691-ee8dd793092b",
   "metadata": {},
   "outputs": [
    {
     "data": {
      "text/plain": [
       "<matplotlib.axes._subplots.AxesSubplot at 0x7feb9ad42190>"
      ]
     },
     "execution_count": 90,
     "metadata": {},
     "output_type": "execute_result"
    },
    {
     "data": {
      "image/png": "[encoded data removed]",
      "text/plain": [
       "<Figure size 432x288 with 1 Axes>"
      ]
     },
     "metadata": {
      "needs_background": "light"
     },
     "output_type": "display_data"
    }
   ],
   "source": [
    "# Plot non-disaster unigrams\n",
    "x, y = map(list, zip(*words_freq_non_disaster[:20]))\n",
    "sns.barplot(x=y, y=x)"
   ]
  },
  {
   "cell_type": "code",
   "execution_count": 91,
   "id": "76d08fa1-3d86-4b95-97ec-48521b241930",
   "metadata": {},
   "outputs": [],
   "source": [
    "words_freq_non_disaster = count_vectors(non_disaster_df, 'text_clean', 2)\n",
    "words_freq_disaster = count_vectors(disaster_df, 'text_clean', 2)"
   ]
  },
  {
   "cell_type": "code",
   "execution_count": 92,
   "id": "a03cf38c-d036-41cd-853d-61f8519776eb",
   "metadata": {},
   "outputs": [
    {
     "data": {
      "text/plain": [
       "<matplotlib.axes._subplots.AxesSubplot at 0x7feb9aca6750>"
      ]
     },
     "execution_count": 92,
     "metadata": {},
     "output_type": "execute_result"
    },
    {
     "data": {
      "image/png": "[encoded data removed]",
      "text/plain": [
       "<Figure size 432x288 with 1 Axes>"
      ]
     },
     "metadata": {
      "needs_background": "light"
     },
     "output_type": "display_data"
    }
   ],
   "source": [
    "x, y = map(list, zip(*words_freq_disaster[:20]))\n",
    "sns.barplot(x=y, y=x)"
   ]
  },
  {
   "cell_type": "code",
   "execution_count": 93,
   "id": "432bc601-3737-4b9f-9203-522a32d38070",
   "metadata": {},
   "outputs": [
    {
     "data": {
      "text/plain": [
       "<matplotlib.axes._subplots.AxesSubplot at 0x7feb9a4eb650>"
      ]
     },
     "execution_count": 93,
     "metadata": {},
     "output_type": "execute_result"
    },
    {
     "data": {
      "image/png": "[encoded data removed]",
      "text/plain": [
       "<Figure size 432x288 with 1 Axes>"
      ]
     },
     "metadata": {
      "needs_background": "light"
     },
     "output_type": "display_data"
    }
   ],
   "source": [
    "x, y = map(list, zip(*words_freq_non_disaster[:20]))\n",
    "sns.barplot(x=y, y=x)"
   ]
  },
  {
   "cell_type": "code",
   "execution_count": 94,
   "id": "a694220b-cf56-46e6-80a2-3c196d9c09b9",
   "metadata": {},
   "outputs": [],
   "source": [
    "words_freq_non_disaster = count_vectors(non_disaster_df, 'text_clean', 3)\n",
    "words_freq_disaster = count_vectors(disaster_df, 'text_clean', 3)"
   ]
  },
  {
   "cell_type": "code",
   "execution_count": 95,
   "id": "def8226c-7ed2-4d4b-aeee-14795a052c9d",
   "metadata": {},
   "outputs": [
    {
     "data": {
      "text/plain": [
       "<matplotlib.axes._subplots.AxesSubplot at 0x7feb9a753bd0>"
      ]
     },
     "execution_count": 95,
     "metadata": {},
     "output_type": "execute_result"
    },
    {
     "data": {
      "image/png": "[encoded data removed]",
      "text/plain": [
       "<Figure size 432x288 with 1 Axes>"
      ]
     },
     "metadata": {
      "needs_background": "light"
     },
     "output_type": "display_data"
    }
   ],
   "source": [
    "x, y = map(list, zip(*words_freq_disaster[:20]))\n",
    "sns.barplot(x=y, y=x)"
   ]
  },
  {
   "cell_type": "code",
   "execution_count": 96,
   "id": "35b5cb8f-57a9-4e5a-9696-2772e24c66b8",
   "metadata": {},
   "outputs": [
    {
     "data": {
      "text/plain": [
       "<matplotlib.axes._subplots.AxesSubplot at 0x7feb98a9c410>"
      ]
     },
     "execution_count": 96,
     "metadata": {},
     "output_type": "execute_result"
    },
    {
     "data": {
      "image/png": "[encoded data removed]",
      "text/plain": [
       "<Figure size 432x288 with 1 Axes>"
      ]
     },
     "metadata": {
      "needs_background": "light"
     },
     "output_type": "display_data"
    }
   ],
   "source": [
    "x, y = map(list, zip(*words_freq_non_disaster[:20]))\n",
    "sns.barplot(x=y, y=x)"
   ]
  },
  {
   "cell_type": "code",
   "execution_count": null,
   "id": "57056764-adbc-4597-91ec-eeeffcad8595",
   "metadata": {},
   "outputs": [],
   "source": [
    "example[\"col1\"].apply(lambda row: \" \".join([w.lemma_ for w in nlp(row)]))"
   ]
  },
  {
   "cell_type": "code",
   "execution_count": null,
   "id": "50bc9ef9-325d-4ee5-af04-ae5570130537",
   "metadata": {},
   "outputs": [],
   "source": []
  }
 ],
 "metadata": {
  "kernelspec": {
   "display_name": "tf_gpu",
   "language": "python",
   "name": "tf_gpu"
  },
  "language_info": {
   "codemirror_mode": {
    "name": "ipython",
    "version": 3
   },
   "file_extension": ".py",
   "mimetype": "text/x-python",
   "name": "python",
   "nbconvert_exporter": "python",
   "pygments_lexer": "ipython3",
   "version": "3.7.10"
  }
 },
 "nbformat": 4,
 "nbformat_minor": 5
}
