{
 "cells": [
  {
   "cell_type": "code",
   "execution_count": 176,
   "id": "ffe7c12a-41e2-4df5-b555-2eb04c8548d9",
   "metadata": {},
   "outputs": [],
   "source": [
    "import warnings\n",
    "warnings.filterwarnings(\"ignore\")"
   ]
  },
  {
   "cell_type": "code",
   "execution_count": 1,
   "id": "149c1cc6-0ccf-44f0-bfbe-c462b9f1fb5a",
   "metadata": {},
   "outputs": [],
   "source": [
    "import pandas as pd\n",
    "import numpy as np\n",
    "import re\n",
    "import spacy\n",
    "import string"
   ]
  },
  {
   "cell_type": "code",
   "execution_count": 2,
   "id": "94af04ed-b9e2-4276-8eb9-89c9cc080ca9",
   "metadata": {},
   "outputs": [
    {
     "name": "stderr",
     "output_type": "stream",
     "text": [
      "[nltk_data] Downloading package stopwords to\n",
      "[nltk_data]     /Users/matthewcassi/nltk_data...\n",
      "[nltk_data]   Unzipping corpora/stopwords.zip.\n",
      "[nltk_data] Downloading package punkt to\n",
      "[nltk_data]     /Users/matthewcassi/nltk_data...\n",
      "[nltk_data]   Package punkt is already up-to-date!\n",
      "[nltk_data] Downloading package averaged_perceptron_tagger to\n",
      "[nltk_data]     /Users/matthewcassi/nltk_data...\n",
      "[nltk_data]   Unzipping taggers/averaged_perceptron_tagger.zip.\n",
      "[nltk_data] Downloading package wordnet to\n",
      "[nltk_data]     /Users/matthewcassi/nltk_data...\n",
      "[nltk_data]   Unzipping corpora/wordnet.zip.\n"
     ]
    },
    {
     "data": {
      "text/plain": [
       "True"
      ]
     },
     "execution_count": 2,
     "metadata": {},
     "output_type": "execute_result"
    }
   ],
   "source": [
    "import nltk\n",
    "nltk.download('stopwords')\n",
    "nltk.download('punkt')\n",
    "nltk.download('averaged_perceptron_tagger')\n",
    "nltk.download('wordnet')"
   ]
  },
  {
   "cell_type": "code",
   "execution_count": 71,
   "id": "dcd14d1b-36bc-4759-8835-2149b7ed2b5d",
   "metadata": {},
   "outputs": [],
   "source": [
    "from collections import Counter, defaultdict"
   ]
  },
  {
   "cell_type": "code",
   "execution_count": 3,
   "id": "3f9bee10-e435-488e-9add-c80bb67a77f1",
   "metadata": {},
   "outputs": [],
   "source": [
    "import matplotlib.pyplot as plt\n",
    "import seaborn as sns"
   ]
  },
  {
   "cell_type": "code",
   "execution_count": 90,
   "id": "5e85fd79-9268-47f0-966d-3bb324120b64",
   "metadata": {},
   "outputs": [],
   "source": [
    "from sklearn.feature_extraction.text import CountVectorizer"
   ]
  },
  {
   "cell_type": "code",
   "execution_count": 200,
   "id": "a1c108d7-405a-4c61-9deb-f687c08b30b2",
   "metadata": {},
   "outputs": [],
   "source": [
    "train = pd.read_csv(\"train.csv\")\n",
    "test = pd.read_csv(\"test.csv\")"
   ]
  },
  {
   "cell_type": "code",
   "execution_count": 201,
   "id": "195e3ca8-081c-4909-a667-f63bc4dbfa79",
   "metadata": {},
   "outputs": [
    {
     "data": {
      "text/html": [
       "<div>\n",
       "<style scoped>\n",
       "    .dataframe tbody tr th:only-of-type {\n",
       "        vertical-align: middle;\n",
       "    }\n",
       "\n",
       "    .dataframe tbody tr th {\n",
       "        vertical-align: top;\n",
       "    }\n",
       "\n",
       "    .dataframe thead th {\n",
       "        text-align: right;\n",
       "    }\n",
       "</style>\n",
       "<table border=\"1\" class=\"dataframe\">\n",
       "  <thead>\n",
       "    <tr style=\"text-align: right;\">\n",
       "      <th></th>\n",
       "      <th>id</th>\n",
       "      <th>keyword</th>\n",
       "      <th>location</th>\n",
       "      <th>text</th>\n",
       "      <th>target</th>\n",
       "    </tr>\n",
       "  </thead>\n",
       "  <tbody>\n",
       "    <tr>\n",
       "      <th>0</th>\n",
       "      <td>1</td>\n",
       "      <td>NaN</td>\n",
       "      <td>NaN</td>\n",
       "      <td>Our Deeds are the Reason of this #earthquake M...</td>\n",
       "      <td>1</td>\n",
       "    </tr>\n",
       "    <tr>\n",
       "      <th>1</th>\n",
       "      <td>4</td>\n",
       "      <td>NaN</td>\n",
       "      <td>NaN</td>\n",
       "      <td>Forest fire near La Ronge Sask. Canada</td>\n",
       "      <td>1</td>\n",
       "    </tr>\n",
       "    <tr>\n",
       "      <th>2</th>\n",
       "      <td>5</td>\n",
       "      <td>NaN</td>\n",
       "      <td>NaN</td>\n",
       "      <td>All residents asked to 'shelter in place' are ...</td>\n",
       "      <td>1</td>\n",
       "    </tr>\n",
       "    <tr>\n",
       "      <th>3</th>\n",
       "      <td>6</td>\n",
       "      <td>NaN</td>\n",
       "      <td>NaN</td>\n",
       "      <td>13,000 people receive #wildfires evacuation or...</td>\n",
       "      <td>1</td>\n",
       "    </tr>\n",
       "    <tr>\n",
       "      <th>4</th>\n",
       "      <td>7</td>\n",
       "      <td>NaN</td>\n",
       "      <td>NaN</td>\n",
       "      <td>Just got sent this photo from Ruby #Alaska as ...</td>\n",
       "      <td>1</td>\n",
       "    </tr>\n",
       "  </tbody>\n",
       "</table>\n",
       "</div>"
      ],
      "text/plain": [
       "   id keyword location                                               text  \\\n",
       "0   1     NaN      NaN  Our Deeds are the Reason of this #earthquake M...   \n",
       "1   4     NaN      NaN             Forest fire near La Ronge Sask. Canada   \n",
       "2   5     NaN      NaN  All residents asked to 'shelter in place' are ...   \n",
       "3   6     NaN      NaN  13,000 people receive #wildfires evacuation or...   \n",
       "4   7     NaN      NaN  Just got sent this photo from Ruby #Alaska as ...   \n",
       "\n",
       "   target  \n",
       "0       1  \n",
       "1       1  \n",
       "2       1  \n",
       "3       1  \n",
       "4       1  "
      ]
     },
     "execution_count": 201,
     "metadata": {},
     "output_type": "execute_result"
    }
   ],
   "source": [
    "train.head()"
   ]
  },
  {
   "cell_type": "code",
   "execution_count": 202,
   "id": "16830ccf-cdc7-4f31-bc19-7487f57866df",
   "metadata": {},
   "outputs": [
    {
     "data": {
      "text/plain": [
       "fatalities               45\n",
       "armageddon               42\n",
       "deluge                   42\n",
       "harm                     41\n",
       "body%20bags              41\n",
       "                         ..\n",
       "forest%20fire            19\n",
       "epicentre                12\n",
       "threat                   11\n",
       "inundation               10\n",
       "radiation%20emergency     9\n",
       "Name: keyword, Length: 221, dtype: int64"
      ]
     },
     "execution_count": 202,
     "metadata": {},
     "output_type": "execute_result"
    }
   ],
   "source": [
    "train.keyword.value_counts()"
   ]
  },
  {
   "cell_type": "code",
   "execution_count": 203,
   "id": "6f6c651e-4da8-47cf-b697-7b315792c162",
   "metadata": {},
   "outputs": [
    {
     "data": {
      "text/plain": [
       "USA                             104\n",
       "New York                         71\n",
       "United States                    50\n",
       "London                           45\n",
       "Canada                           29\n",
       "                               ... \n",
       "Northern Ireland                  1\n",
       "Newton Centre, Massachusetts      1\n",
       "Torrance, CA                      1\n",
       "Also follow ?                     1\n",
       "jeddah | Khartoum                 1\n",
       "Name: location, Length: 3341, dtype: int64"
      ]
     },
     "execution_count": 203,
     "metadata": {},
     "output_type": "execute_result"
    }
   ],
   "source": [
    "train.location.value_counts()"
   ]
  },
  {
   "cell_type": "code",
   "execution_count": 204,
   "id": "07d8ae04-64c6-40a3-b9d7-87e291d58b81",
   "metadata": {},
   "outputs": [
    {
     "data": {
      "text/plain": [
       "(7613, 5)"
      ]
     },
     "execution_count": 204,
     "metadata": {},
     "output_type": "execute_result"
    }
   ],
   "source": [
    "train.shape"
   ]
  },
  {
   "cell_type": "code",
   "execution_count": 205,
   "id": "4d1c11a9-90eb-41e6-bd70-221fde3f2ad3",
   "metadata": {},
   "outputs": [
    {
     "data": {
      "text/plain": [
       "<matplotlib.axes._subplots.AxesSubplot at 0x7fe95193db10>"
      ]
     },
     "execution_count": 205,
     "metadata": {},
     "output_type": "execute_result"
    },
    {
     "data": {
      "image/png": "[encoded data removed]",
      "text/plain": [
       "<Figure size 432x288 with 1 Axes>"
      ]
     },
     "metadata": {
      "needs_background": "light"
     },
     "output_type": "display_data"
    }
   ],
   "source": [
    "# Distribution of Disaster vs Non-Disaster\n",
    "sns.countplot(train['target'])"
   ]
  },
  {
   "cell_type": "code",
   "execution_count": 10,
   "id": "503272b3-1e1c-47cb-9c4d-90bb30616225",
   "metadata": {},
   "outputs": [
    {
     "data": {
      "text/plain": [
       "0    4342\n",
       "1    3271\n",
       "Name: target, dtype: int64"
      ]
     },
     "execution_count": 10,
     "metadata": {},
     "output_type": "execute_result"
    }
   ],
   "source": [
    "train.target.value_counts()"
   ]
  },
  {
   "cell_type": "code",
   "execution_count": 17,
   "id": "10cd3b3b-1293-4b4a-a401-da47ab4f68c9",
   "metadata": {},
   "outputs": [
    {
     "name": "stdout",
     "output_type": "stream",
     "text": [
      "Our Deeds are the Reason of this #earthquake May ALLAH Forgive us all\n",
      "Forest fire near La Ronge Sask. Canada\n",
      "All residents asked to 'shelter in place' are being notified by officers. No other evacuation or shelter in place orders are expected\n",
      "13,000 people receive #wildfires evacuation orders in California \n",
      "Just got sent this photo from Ruby #Alaska as smoke from #wildfires pours into a school \n",
      "#RockyFire Update => California Hwy. 20 closed in both directions due to Lake County fire - #CAfire #wildfires\n",
      "#flood #disaster Heavy rain causes flash flooding of streets in Manitou, Colorado Springs areas\n",
      "I'm on top of the hill and I can see a fire in the woods...\n",
      "There's an emergency evacuation happening now in the building across the street\n",
      "I'm afraid that the tornado is coming to our area...\n"
     ]
    }
   ],
   "source": [
    "for i in np.arange(10):\n",
    "     print(train.text[i])"
   ]
  },
  {
   "cell_type": "code",
   "execution_count": 206,
   "id": "50ed63d7-9c9a-4a0c-b0af-1289c3fedfde",
   "metadata": {},
   "outputs": [],
   "source": [
    "# Calculate the lengths of the text\n",
    "non_dis_len = train[train.target == 0]['text'].str.len()\n",
    "dis_len = train[train.target == 1]['text'].str.len()"
   ]
  },
  {
   "cell_type": "code",
   "execution_count": 207,
   "id": "117494ee-b98a-4a4b-b17d-60d0540d56da",
   "metadata": {},
   "outputs": [
    {
     "data": {
      "text/plain": [
       "Text(0.5, 1.0, 'Disaster Tweets')"
      ]
     },
     "execution_count": 207,
     "metadata": {},
     "output_type": "execute_result"
    },
    {
     "data": {
      "image/png": "[encoded data removed]",
      "text/plain": [
       "<Figure size 720x360 with 2 Axes>"
      ]
     },
     "metadata": {
      "needs_background": "light"
     },
     "output_type": "display_data"
    }
   ],
   "source": [
    "# plot the lengths of the text from each type disaster vs non-disaster\n",
    "fig,(ax1,ax2) = plt.subplots(1,2,figsize=(10,5))\n",
    "ax1.hist(non_dis_len)\n",
    "ax1.set_title(\"Non-Disaster Tweets\")\n",
    "ax2.hist(dis_len)\n",
    "ax2.set_title(\"Disaster Tweets\")"
   ]
  },
  {
   "cell_type": "code",
   "execution_count": 208,
   "id": "9c5e1c17-fae8-44ba-b0f6-0fee12d3c432",
   "metadata": {},
   "outputs": [],
   "source": [
    "# Load the Spacy Model\n",
    "nlp = spacy.load(\"en_core_web_sm\")"
   ]
  },
  {
   "cell_type": "code",
   "execution_count": 209,
   "id": "94756f61-e25b-4df2-b461-50b2ffe57295",
   "metadata": {},
   "outputs": [],
   "source": [
    "# Count the number of words\n",
    "disaster_words = train[train['target']==1]['text'].str.split().map(lambda x: len(x))\n",
    "non_disaster_words = train[train['target']==0]['text'].str.split().map(lambda x: len(x))"
   ]
  },
  {
   "cell_type": "code",
   "execution_count": 41,
   "id": "f3d8ff52-68e1-4ec0-8c76-6133ba72a06c",
   "metadata": {},
   "outputs": [
    {
     "data": {
      "text/plain": [
       "Text(0.5, 1.0, 'Disaster Tweets')"
      ]
     },
     "execution_count": 41,
     "metadata": {},
     "output_type": "execute_result"
    },
    {
     "data": {
      "image/png": "[encoded data removed]",
      "text/plain": [
       "<Figure size 720x360 with 2 Axes>"
      ]
     },
     "metadata": {
      "needs_background": "light"
     },
     "output_type": "display_data"
    }
   ],
   "source": [
    "# Plot number of words for each type of tweet\n",
    "fig,(ax1,ax2) = plt.subplots(1,2,figsize=(10,5))\n",
    "ax1.hist(non_disaster_words)\n",
    "ax1.set_title(\"Non-Disaster Tweets\")\n",
    "ax2.hist(disaster_words)\n",
    "ax2.set_title(\"Disaster Tweets\")"
   ]
  },
  {
   "cell_type": "code",
   "execution_count": 63,
   "id": "be11e7bd-3c1d-4200-8f56-598962f27efe",
   "metadata": {},
   "outputs": [],
   "source": [
    "def count_words(text):\n",
    "    \"\"\" Counts the number of words using Spacy\"\"\"\n",
    "    doc = nlp(text)\n",
    "    count_words = 0\n",
    "    # Iterate over the tokens in the doc\n",
    "    for token in doc:\n",
    "        # Check if the token resembles a word\n",
    "        if token.is_alpha:\n",
    "            count_words += 1\n",
    "    return count_words\n",
    "\n",
    "def count_numbers(text):\n",
    "    \"\"\" Counts the number of numbers using Spacy\"\"\"\n",
    "    doc = nlp(text)\n",
    "    count_nums = 0\n",
    "    # Iterate over the tokens in the doc\n",
    "    for token in doc:\n",
    "        # Check if the token resembles a word\n",
    "        if token.like_num:\n",
    "            count_nums += 1\n",
    "    return count_nums\n",
    "\n",
    "def count_punc(text):\n",
    "    \"\"\" Counts the number of punctuation symbols using Spacy\"\"\"\n",
    "    doc = nlp(text)\n",
    "    count_punct = 0\n",
    "    # Iterate over the tokens in the doc\n",
    "    for token in doc:\n",
    "        # Check if the token resembles a word\n",
    "        if token.is_punct:\n",
    "            count_punct += 1\n",
    "    return count_punct"
   ]
  },
  {
   "cell_type": "code",
   "execution_count": 64,
   "id": "eb8ef7ce-395a-4bd1-af3b-7c14518e7e91",
   "metadata": {},
   "outputs": [],
   "source": [
    "non_disaster = train[train.target == 0]['text'].to_list()\n",
    "disaster = train[train.target == 1]['text'].to_list()"
   ]
  },
  {
   "cell_type": "code",
   "execution_count": 65,
   "id": "d91831ba-40c0-403a-841a-fbd6ad07c000",
   "metadata": {},
   "outputs": [],
   "source": [
    "# Calculate number of words in each tweet using Spacy\n",
    "nd_words = [count_words(text) for text in non_disaster]\n",
    "d_words = [count_words(text) for text in disaster]"
   ]
  },
  {
   "cell_type": "code",
   "execution_count": 66,
   "id": "71e22709-d0d5-4d06-9343-5e2bc1ec5248",
   "metadata": {},
   "outputs": [
    {
     "data": {
      "text/plain": [
       "Text(0.5, 1.0, 'Disaster Tweets')"
      ]
     },
     "execution_count": 66,
     "metadata": {},
     "output_type": "execute_result"
    },
    {
     "data": {
      "image/png": "[encoded data removed]",
      "text/plain": [
       "<Figure size 720x360 with 2 Axes>"
      ]
     },
     "metadata": {
      "needs_background": "light"
     },
     "output_type": "display_data"
    }
   ],
   "source": [
    "# Plot number of words based on Spacy calcs\n",
    "fig,(ax1,ax2) = plt.subplots(1,2,figsize=(10,5))\n",
    "ax1.hist(nd_words)\n",
    "ax1.set_title(\"Non-Disaster Tweets\")\n",
    "ax2.hist(d_words)\n",
    "ax2.set_title(\"Disaster Tweets\")"
   ]
  },
  {
   "cell_type": "code",
   "execution_count": 67,
   "id": "eead12c6-701a-4575-9542-08cabec8e20f",
   "metadata": {},
   "outputs": [],
   "source": [
    "# Count number of numbers using Spacy\n",
    "nd_nums = [count_numbers(text) for text in non_disaster]\n",
    "d_nums = [count_numbers(text) for text in disaster]"
   ]
  },
  {
   "cell_type": "code",
   "execution_count": 68,
   "id": "d27cca52-a3c2-4cab-bcbf-101729a56c33",
   "metadata": {},
   "outputs": [
    {
     "data": {
      "text/plain": [
       "Text(0.5, 1.0, 'Disaster Tweets')"
      ]
     },
     "execution_count": 68,
     "metadata": {},
     "output_type": "execute_result"
    },
    {
     "data": {
      "image/png": "[encoded data removed]",
      "text/plain": [
       "<Figure size 720x360 with 2 Axes>"
      ]
     },
     "metadata": {
      "needs_background": "light"
     },
     "output_type": "display_data"
    }
   ],
   "source": [
    "# Plot number of numbers\n",
    "fig,(ax1,ax2) = plt.subplots(1,2,figsize=(10,5))\n",
    "ax1.hist(nd_nums)\n",
    "ax1.set_title(\"Non-Disaster Tweets\")\n",
    "ax2.hist(d_nums)\n",
    "ax2.set_title(\"Disaster Tweets\")"
   ]
  },
  {
   "cell_type": "code",
   "execution_count": 69,
   "id": "79e86e79-6860-47ce-bd9c-374d9c32fb2f",
   "metadata": {},
   "outputs": [],
   "source": [
    "# Calculate number of punctuation symbols\n",
    "nd_puncts = [count_punc(text) for text in non_disaster]\n",
    "d_puncts = [count_punc(text) for text in disaster]"
   ]
  },
  {
   "cell_type": "code",
   "execution_count": 70,
   "id": "a27280bd-1263-484c-836e-1e4a4d56f1d1",
   "metadata": {},
   "outputs": [
    {
     "data": {
      "text/plain": [
       "Text(0.5, 1.0, 'Disaster Tweets')"
      ]
     },
     "execution_count": 70,
     "metadata": {},
     "output_type": "execute_result"
    },
    {
     "data": {
      "image/png": "[encoded data removed]",
      "text/plain": [
       "<Figure size 720x360 with 2 Axes>"
      ]
     },
     "metadata": {
      "needs_background": "light"
     },
     "output_type": "display_data"
    }
   ],
   "source": [
    "# Plot number of punctuation symbols\n",
    "fig,(ax1,ax2) = plt.subplots(1,2,figsize=(10,5))\n",
    "ax1.hist(nd_puncts)\n",
    "ax1.set_title(\"Non-Disaster Tweets\")\n",
    "ax2.hist(d_puncts)\n",
    "ax2.set_title(\"Disaster Tweets\")"
   ]
  },
  {
   "cell_type": "code",
   "execution_count": 74,
   "id": "f5e3ce70-9aeb-4906-bbdd-d1927a189c5d",
   "metadata": {},
   "outputs": [],
   "source": [
    "def get_ner(text):\n",
    "    \"\"\" Get the named entities for each tweet\"\"\"\n",
    "    doc = nlp(text)\n",
    "    return [X.label_ for X in doc.ents]"
   ]
  },
  {
   "cell_type": "code",
   "execution_count": 84,
   "id": "5214b8fe-ebb1-414f-b105-79d4ab62b194",
   "metadata": {},
   "outputs": [],
   "source": [
    "# Get the named entities for non-disaster tweets\n",
    "ent_nd = [get_ner(text) for text in non_disaster] \n",
    "ent_nd = [x for sub in ent_nd for x in sub]"
   ]
  },
  {
   "cell_type": "code",
   "execution_count": 81,
   "id": "b0942142-889a-49eb-afad-6abd0db6dbd1",
   "metadata": {},
   "outputs": [],
   "source": [
    "# Get the named entities for disaster tweets\n",
    "ent_d = [get_ner(text) for text in disaster] \n",
    "ent_d = [x for sub in ent_d for x in sub]"
   ]
  },
  {
   "cell_type": "code",
   "execution_count": 85,
   "id": "1138e4f6-5aa2-4cae-8f01-cb7fb2b9a248",
   "metadata": {},
   "outputs": [],
   "source": [
    "# Use counter to count the NERs\n",
    "counter_d = Counter(ent_d)\n",
    "count_d = counter_d.most_common(15)\n",
    "\n",
    "counter_nd = Counter(ent_nd)\n",
    "count_nd = counter_nd.most_common(15)"
   ]
  },
  {
   "cell_type": "code",
   "execution_count": 88,
   "id": "2b1f781f-fc69-455e-a1b7-281038e08563",
   "metadata": {},
   "outputs": [
    {
     "data": {
      "text/plain": [
       "<matplotlib.axes._subplots.AxesSubplot at 0x7fe94b01c210>"
      ]
     },
     "execution_count": 88,
     "metadata": {},
     "output_type": "execute_result"
    },
    {
     "data": {
      "image/png": "[encoded data removed]",
      "text/plain": [
       "<Figure size 432x288 with 1 Axes>"
      ]
     },
     "metadata": {
      "needs_background": "light"
     },
     "output_type": "display_data"
    }
   ],
   "source": [
    "# Plot NERs for non-disaster\n",
    "x, y = map(list, zip(*count_nd))\n",
    "sns.barplot(x=y, y=x)"
   ]
  },
  {
   "cell_type": "code",
   "execution_count": 89,
   "id": "1db919cc-7a33-4fe2-86d7-8c2f677ff2d4",
   "metadata": {},
   "outputs": [
    {
     "data": {
      "text/plain": [
       "<matplotlib.axes._subplots.AxesSubplot at 0x7fe94d8a4710>"
      ]
     },
     "execution_count": 89,
     "metadata": {},
     "output_type": "execute_result"
    },
    {
     "data": {
      "image/png": "[encoded data removed]",
      "text/plain": [
       "<Figure size 432x288 with 1 Axes>"
      ]
     },
     "metadata": {
      "needs_background": "light"
     },
     "output_type": "display_data"
    }
   ],
   "source": [
    "# Plot NERs for disaster\n",
    "x, y = map(list, zip(*count_d))\n",
    "sns.barplot(x=y, y=x)"
   ]
  },
  {
   "cell_type": "code",
   "execution_count": 177,
   "id": "dbd0eac0-5f52-4b35-8b65-f2de3088ade7",
   "metadata": {},
   "outputs": [],
   "source": [
    "def remove_URL(text):\n",
    "    \"\"\"Remove URLs from text\"\"\"\n",
    "    url = re.compile(r'https?://\\S+|www\\.\\S+')\n",
    "    return url.sub(r'', text)\n",
    "\n",
    "\n",
    "def remove_emoji(text):\n",
    "    \"\"\"Remove emojis from text\"\"\"\n",
    "    emoji_pattern = re.compile(\n",
    "        '['\n",
    "        u'\\U0001F600-\\U0001F64F'  # emoticons\n",
    "        u'\\U0001F300-\\U0001F5FF'  # symbols & pictographs\n",
    "        u'\\U0001F680-\\U0001F6FF'  # transport & map symbols\n",
    "        u'\\U0001F1E0-\\U0001F1FF'  # flags (iOS)\n",
    "        u'\\U00002702-\\U000027B0'\n",
    "        u'\\U000024C2-\\U0001F251'\n",
    "        ']+',\n",
    "        flags=re.UNICODE)\n",
    "    return emoji_pattern.sub(r'', text)\n",
    "\n",
    "\n",
    "def remove_html(text):\n",
    "    \"\"\"Remove HTML from text\"\"\"\n",
    "    html = re.compile(r'<.*?>|&([a-z0-9]+|#[0-9]{1,6}|#x[0-9a-f]{1,6});')\n",
    "    return re.sub(html, '', text)"
   ]
  },
  {
   "cell_type": "code",
   "execution_count": 178,
   "id": "63a3d5b5-1ca2-45e4-8973-45ce564b0e45",
   "metadata": {},
   "outputs": [],
   "source": [
    "# Initialize the Count Vectorizers for counting unigrams, bigrams, and trigrams\n",
    "vec_unigram1 = CountVectorizer(stop_words = 'english', max_df = 0.9)\n",
    "vec_bigram1 = CountVectorizer(stop_words = 'english', ngram_range = (2,2), max_df = 0.9)\n",
    "vec_trigram1 = CountVectorizer(stop_words = 'english', ngram_range = (3,3), max_df = 0.9)\n",
    "\n",
    "vec_unigram2 = CountVectorizer(stop_words = 'english', max_df = 0.9)\n",
    "vec_bigram2 = CountVectorizer(stop_words = 'english', ngram_range = (2,2), max_df = 0.9)\n",
    "vec_trigram2 = CountVectorizer(stop_words = 'english', ngram_range = (3,3), max_df = 0.9)"
   ]
  },
  {
   "cell_type": "code",
   "execution_count": 179,
   "id": "847f5bc3-48a8-46b9-a812-419800eb22da",
   "metadata": {},
   "outputs": [],
   "source": [
    "# Create dataframes for countvectorizers\n",
    "disaster_df = train[train.target == 1]\n",
    "non_disaster_df = train[train.target == 0]"
   ]
  },
  {
   "cell_type": "code",
   "execution_count": 180,
   "id": "43f8c9a1-1c5c-4cfd-9987-c0822ac64518",
   "metadata": {},
   "outputs": [],
   "source": [
    "# Clean text: remove URLs, remove emojis, remove HTML\n",
    "disaster_df['text_clean'] = disaster_df['text'].apply(lambda x: remove_URL(x))\n",
    "disaster_df['text_clean'] = disaster_df['text_clean'].apply(lambda x: remove_emoji(x))\n",
    "disaster_df['text_clean'] = disaster_df['text_clean'].apply(lambda x: remove_html(x))"
   ]
  },
  {
   "cell_type": "code",
   "execution_count": 181,
   "id": "b2adedf0-861d-43ad-8b59-ce8a2ff5ba2e",
   "metadata": {},
   "outputs": [],
   "source": [
    "# Clean text: remove URLs, remove emojis, remove HTML\n",
    "non_disaster_df['text_clean'] = non_disaster_df['text'].apply(lambda x: remove_URL(x))\n",
    "non_disaster_df['text_clean'] = non_disaster_df['text_clean'].apply(lambda x: remove_emoji(x))\n",
    "non_disaster_df['text_clean'] = non_disaster_df['text_clean'].apply(lambda x: remove_html(x))"
   ]
  },
  {
   "cell_type": "code",
   "execution_count": 182,
   "id": "10dd9cce-6998-4bb1-bbb8-80a5b51f068f",
   "metadata": {},
   "outputs": [],
   "source": [
    "# Fit the unigram vectorizer\n",
    "bow_disaster = vec_unigram1.fit_transform(disaster_df.text_clean)\n",
    "sum_bow_disaster = bow_disaster.sum(axis=0)"
   ]
  },
  {
   "cell_type": "code",
   "execution_count": 183,
   "id": "332b98a2-6cd8-4b4d-b19c-4d74eb3a8dfb",
   "metadata": {},
   "outputs": [],
   "source": [
    "# Count unigrams\n",
    "words_freq_disaster = [(word, sum_bow_disaster[0, idx])\n",
    "                       for word, idx in vec_unigram1.vocabulary_.items()]\n",
    "words_freq_disaster = sorted(words_freq_disaster, key=lambda x: x[1], reverse=True)"
   ]
  },
  {
   "cell_type": "code",
   "execution_count": 184,
   "id": "5db91ff6-78cc-4244-bbf2-e5e0f1b1fc6d",
   "metadata": {},
   "outputs": [],
   "source": [
    "# Fit the unigram vectorizer\n",
    "bow_non_disaster = vec_unigram2.fit_transform(non_disaster_df.text_clean)\n",
    "sum_bow_non_disaster = bow_non_disaster.sum(axis=0)"
   ]
  },
  {
   "cell_type": "code",
   "execution_count": 185,
   "id": "1b26f88b-47de-4681-91a9-c945abd86db7",
   "metadata": {},
   "outputs": [],
   "source": [
    "# Count unigrams\n",
    "words_freq_non_disaster = [(word, sum_bow_non_disaster[0, idx])\n",
    "                       for word, idx in vec_unigram2.vocabulary_.items()]\n",
    "words_freq_non_disaster = sorted(words_freq_non_disaster, key=lambda x: x[1], reverse=True)"
   ]
  },
  {
   "cell_type": "code",
   "execution_count": 186,
   "id": "cf0beb21-69da-473d-8dc5-365632ab435c",
   "metadata": {},
   "outputs": [
    {
     "data": {
      "text/plain": [
       "<matplotlib.axes._subplots.AxesSubplot at 0x7fe94ab2e950>"
      ]
     },
     "execution_count": 186,
     "metadata": {},
     "output_type": "execute_result"
    },
    {
     "data": {
      "image/png": "[encoded data removed]",
      "text/plain": [
       "<Figure size 432x288 with 1 Axes>"
      ]
     },
     "metadata": {
      "needs_background": "light"
     },
     "output_type": "display_data"
    }
   ],
   "source": [
    "# Plot disaster unigrams\n",
    "x, y = map(list, zip(*words_freq_disaster[:20]))\n",
    "sns.barplot(x=y, y=x)"
   ]
  },
  {
   "cell_type": "code",
   "execution_count": 187,
   "id": "8f389dbe-2dfc-4b46-b691-ee8dd793092b",
   "metadata": {},
   "outputs": [
    {
     "data": {
      "text/plain": [
       "<matplotlib.axes._subplots.AxesSubplot at 0x7fe94adc4b90>"
      ]
     },
     "execution_count": 187,
     "metadata": {},
     "output_type": "execute_result"
    },
    {
     "data": {
      "image/png": "[encoded data removed]",
      "text/plain": [
       "<Figure size 432x288 with 1 Axes>"
      ]
     },
     "metadata": {
      "needs_background": "light"
     },
     "output_type": "display_data"
    }
   ],
   "source": [
    "# Plot non-disaster unigrams\n",
    "x, y = map(list, zip(*words_freq_non_disaster[:20]))\n",
    "sns.barplot(x=y, y=x)"
   ]
  },
  {
   "cell_type": "code",
   "execution_count": 188,
   "id": "e56f098c-ed2b-4566-ad84-5362225cd1a3",
   "metadata": {},
   "outputs": [],
   "source": [
    "bow_disaster = vec_bigram1.fit_transform(disaster_df.text_clean)\n",
    "sum_bow_disaster = bow_disaster.sum(axis=0)"
   ]
  },
  {
   "cell_type": "code",
   "execution_count": 189,
   "id": "9d68be5e-c09b-4c0e-975a-3f7fd58f2933",
   "metadata": {},
   "outputs": [],
   "source": [
    "words_freq_disaster = [(word, sum_bow_disaster[0, idx])\n",
    "                       for word, idx in vec_bigram1.vocabulary_.items()]\n",
    "words_freq_disaster = sorted(words_freq_disaster, key=lambda x: x[1], reverse=True)"
   ]
  },
  {
   "cell_type": "code",
   "execution_count": 190,
   "id": "b8da62de-dd3a-425e-accb-99a4cad60faa",
   "metadata": {},
   "outputs": [],
   "source": [
    "bow_non_disaster = vec_bigram2.fit_transform(non_disaster_df.text_clean)\n",
    "sum_bow_non_disaster = bow_non_disaster.sum(axis=0)"
   ]
  },
  {
   "cell_type": "code",
   "execution_count": 191,
   "id": "c0713ff3-dd46-4cf9-8d4d-636a07bfa546",
   "metadata": {},
   "outputs": [],
   "source": [
    "words_freq_non_disaster = [(word, sum_bow_non_disaster[0, idx])\n",
    "                       for word, idx in vec_bigram2.vocabulary_.items()]\n",
    "words_freq_non_disaster = sorted(words_freq_non_disaster, key=lambda x: x[1], reverse=True)"
   ]
  },
  {
   "cell_type": "code",
   "execution_count": 192,
   "id": "a03cf38c-d036-41cd-853d-61f8519776eb",
   "metadata": {},
   "outputs": [
    {
     "data": {
      "text/plain": [
       "<matplotlib.axes._subplots.AxesSubplot at 0x7fe949234790>"
      ]
     },
     "execution_count": 192,
     "metadata": {},
     "output_type": "execute_result"
    },
    {
     "data": {
      "image/png": "[encoded data removed]",
      "text/plain": [
       "<Figure size 432x288 with 1 Axes>"
      ]
     },
     "metadata": {
      "needs_background": "light"
     },
     "output_type": "display_data"
    }
   ],
   "source": [
    "x, y = map(list, zip(*words_freq_disaster[:20]))\n",
    "sns.barplot(x=y, y=x)"
   ]
  },
  {
   "cell_type": "code",
   "execution_count": 193,
   "id": "432bc601-3737-4b9f-9203-522a32d38070",
   "metadata": {},
   "outputs": [
    {
     "data": {
      "text/plain": [
       "<matplotlib.axes._subplots.AxesSubplot at 0x7fe94f11a7d0>"
      ]
     },
     "execution_count": 193,
     "metadata": {},
     "output_type": "execute_result"
    },
    {
     "data": {
      "image/png": "[encoded data removed]",
      "text/plain": [
       "<Figure size 432x288 with 1 Axes>"
      ]
     },
     "metadata": {
      "needs_background": "light"
     },
     "output_type": "display_data"
    }
   ],
   "source": [
    "x, y = map(list, zip(*words_freq_non_disaster[:20]))\n",
    "sns.barplot(x=y, y=x)"
   ]
  },
  {
   "cell_type": "code",
   "execution_count": 194,
   "id": "8e0cf472-511d-48b8-a55a-adc30b1b7706",
   "metadata": {},
   "outputs": [],
   "source": [
    "bow_disaster = vec_trigram1.fit_transform(disaster_df.text_clean)\n",
    "sum_bow_disaster = bow_disaster.sum(axis=0)"
   ]
  },
  {
   "cell_type": "code",
   "execution_count": 195,
   "id": "1579fb30-778d-45bc-a5f0-78f39694c197",
   "metadata": {},
   "outputs": [],
   "source": [
    "words_freq_disaster = [(word, sum_bow_disaster[0, idx])\n",
    "                       for word, idx in vec_trigram1.vocabulary_.items()]\n",
    "words_freq_disaster = sorted(words_freq_disaster, key=lambda x: x[1], reverse=True)"
   ]
  },
  {
   "cell_type": "code",
   "execution_count": 196,
   "id": "6c31a736-896d-4779-b149-ca2d6cbda248",
   "metadata": {},
   "outputs": [],
   "source": [
    "bow_non_disaster = vec_trigram2.fit_transform(non_disaster_df.text_clean)\n",
    "sum_bow_non_disaster = bow_non_disaster.sum(axis=0)"
   ]
  },
  {
   "cell_type": "code",
   "execution_count": 197,
   "id": "2b9dd92b-3392-4d3c-9575-bdb0ea0ab2b0",
   "metadata": {},
   "outputs": [],
   "source": [
    "words_freq_non_disaster = [(word, sum_bow_non_disaster[0, idx])\n",
    "                       for word, idx in vec_trigram2.vocabulary_.items()]\n",
    "words_freq_non_disaster = sorted(words_freq_non_disaster, key=lambda x: x[1], reverse=True)"
   ]
  },
  {
   "cell_type": "code",
   "execution_count": 198,
   "id": "def8226c-7ed2-4d4b-aeee-14795a052c9d",
   "metadata": {},
   "outputs": [
    {
     "data": {
      "text/plain": [
       "<matplotlib.axes._subplots.AxesSubplot at 0x7fe94aee1190>"
      ]
     },
     "execution_count": 198,
     "metadata": {},
     "output_type": "execute_result"
    },
    {
     "data": {
      "image/png": "[encoded data removed]",
      "text/plain": [
       "<Figure size 432x288 with 1 Axes>"
      ]
     },
     "metadata": {
      "needs_background": "light"
     },
     "output_type": "display_data"
    }
   ],
   "source": [
    "x, y = map(list, zip(*words_freq_disaster[:20]))\n",
    "sns.barplot(x=y, y=x)"
   ]
  },
  {
   "cell_type": "code",
   "execution_count": 199,
   "id": "35b5cb8f-57a9-4e5a-9696-2772e24c66b8",
   "metadata": {},
   "outputs": [
    {
     "data": {
      "text/plain": [
       "<matplotlib.axes._subplots.AxesSubplot at 0x7fe94ef71150>"
      ]
     },
     "execution_count": 199,
     "metadata": {},
     "output_type": "execute_result"
    },
    {
     "data": {
      "image/png": "[encoded data removed]",
      "text/plain": [
       "<Figure size 432x288 with 1 Axes>"
      ]
     },
     "metadata": {
      "needs_background": "light"
     },
     "output_type": "display_data"
    }
   ],
   "source": [
    "x, y = map(list, zip(*words_freq_non_disaster[:20]))\n",
    "sns.barplot(x=y, y=x)"
   ]
  },
  {
   "cell_type": "code",
   "execution_count": null,
   "id": "57056764-adbc-4597-91ec-eeeffcad8595",
   "metadata": {},
   "outputs": [],
   "source": []
  },
  {
   "cell_type": "code",
   "execution_count": null,
   "id": "75c75301-0bd6-4bdf-b6d7-5c37143a8958",
   "metadata": {},
   "outputs": [],
   "source": []
  },
  {
   "cell_type": "code",
   "execution_count": null,
   "id": "50bc9ef9-325d-4ee5-af04-ae5570130537",
   "metadata": {},
   "outputs": [],
   "source": []
  }
 ],
 "metadata": {
  "kernelspec": {
   "display_name": "tf_gpu",
   "language": "python",
   "name": "tf_gpu"
  },
  "language_info": {
   "codemirror_mode": {
    "name": "ipython",
    "version": 3
   },
   "file_extension": ".py",
   "mimetype": "text/x-python",
   "name": "python",
   "nbconvert_exporter": "python",
   "pygments_lexer": "ipython3",
   "version": "3.7.10"
  }
 },
 "nbformat": 4,
 "nbformat_minor": 5
}
